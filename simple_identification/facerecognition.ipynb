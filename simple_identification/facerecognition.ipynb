{
 "cells": [
  {
   "cell_type": "code",
   "execution_count": null,
   "id": "5010ef70",
   "metadata": {},
   "outputs": [],
   "source": [
    "import os\n",
    "import PIL \n",
    "import PIL.Image\n",
    "import numpy as np\n",
    "#!pip install -U insightface\n",
    "#!pip install onnxruntime\n",
    "from insightface.app import FaceAnalysis"
   ]
  },
  {
   "cell_type": "code",
   "execution_count": 4,
   "id": "d4de11e6",
   "metadata": {},
   "outputs": [
    {
     "name": "stdout",
     "output_type": "stream",
     "text": [
      "Applied providers: ['CPUExecutionProvider'], with options: {'CPUExecutionProvider': {}}\n",
      "find model: /home/jsaavedr/.insightface/models/buffalo_l/1k3d68.onnx landmark_3d_68 ['None', 3, 192, 192] 0.0 1.0\n",
      "Applied providers: ['CPUExecutionProvider'], with options: {'CPUExecutionProvider': {}}\n",
      "find model: /home/jsaavedr/.insightface/models/buffalo_l/2d106det.onnx landmark_2d_106 ['None', 3, 192, 192] 0.0 1.0\n",
      "Applied providers: ['CPUExecutionProvider'], with options: {'CPUExecutionProvider': {}}\n",
      "find model: /home/jsaavedr/.insightface/models/buffalo_l/det_10g.onnx detection [1, 3, '?', '?'] 127.5 128.0\n",
      "Applied providers: ['CPUExecutionProvider'], with options: {'CPUExecutionProvider': {}}\n",
      "find model: /home/jsaavedr/.insightface/models/buffalo_l/genderage.onnx genderage ['None', 3, 96, 96] 0.0 1.0\n",
      "Applied providers: ['CPUExecutionProvider'], with options: {'CPUExecutionProvider': {}}\n",
      "find model: /home/jsaavedr/.insightface/models/buffalo_l/w600k_r50.onnx recognition ['None', 3, 112, 112] 127.5 127.5\n",
      "set det-size: (640, 640)\n"
     ]
    }
   ],
   "source": [
    "datapath = '/home/data/personas'\n",
    "ffaces = os.path.join(datapath, 'faces.txt')\n",
    "\n",
    "# Initialize face analysis model\n",
    "app = FaceAnalysis(name='buffalo_l', providers=['CPUExecutionProvider'])  # Use 'CUDAExecutionProvider' for GPU\n",
    "app.prepare(ctx_id=0)  # ctx_id=-1 for CPU, 0 for GPU\n",
    "\n",
    "def get_face_embedding(image_path):\n",
    "    \"\"\"Extract face embedding from an image\"\"\"\n",
    "    img = PIL.Image.open(image_path)\n",
    "    if img is None:\n",
    "        raise ValueError(f\"Could not read image: {image_path}\")\n",
    "    \n",
    "    faces = app.get(np.array(img))\n",
    "    print(faces)\n",
    "    if len(faces) < 1:\n",
    "        raise ValueError(\"No faces detected in the image\")\n",
    "    if len(faces) > 1:\n",
    "        print(\"Warning: Multiple faces detected. Using first detected face\")\n",
    "    \n",
    "    return faces[0].embedding"
   ]
  },
  {
   "cell_type": "code",
   "execution_count": null,
   "id": "76abb174",
   "metadata": {},
   "outputs": [
    {
     "name": "stdout",
     "output_type": "stream",
     "text": [
      "/home/data/personas/paulina/paulina2.png\n",
      "/home/data/personas/paulina/paulina1.jpeg\n",
      "/home/data/personas/dicaprio/dicaprio_2.png\n",
      "/home/data/personas/dicaprio/dicaprio.jpg\n",
      "/home/data/personas/barack/barack.jpeg\n",
      "/home/data/personas/barack/barack_2.jpeg\n",
      "/home/data/personas/barack/face_2.jpeg\n",
      "/home/data/personas/pancho/pancho.jpeg\n",
      "/home/data/personas/pancho/pancho2.jpeg\n",
      "/home/data/personas/thalia/thalia1.jpg\n",
      "/home/data/personas/thalia/thalia2.jpg\n"
     ]
    },
    {
     "ename": "FileNotFoundError",
     "evalue": "[Errno 2] No such file or directory: 'face_embs.npy'",
     "output_type": "error",
     "traceback": [
      "\u001b[0;31m---------------------------------------------------------------------------\u001b[0m",
      "\u001b[0;31mFileNotFoundError\u001b[0m                         Traceback (most recent call last)",
      "Cell \u001b[0;32mIn[6], line 19\u001b[0m\n\u001b[1;32m     15\u001b[0m                 embs \u001b[38;5;241m=\u001b[39m np\u001b[38;5;241m.\u001b[39mvstack([embs, emb])\n\u001b[1;32m     17\u001b[0m \u001b[38;5;66;03m# print(embs.shape)\u001b[39;00m\n\u001b[1;32m     18\u001b[0m \u001b[38;5;66;03m# np.save(\"face_embs.npy\", embs)\u001b[39;00m\n\u001b[0;32m---> 19\u001b[0m embs \u001b[38;5;241m=\u001b[39m \u001b[43mnp\u001b[49m\u001b[38;5;241;43m.\u001b[39;49m\u001b[43mload\u001b[49m\u001b[43m(\u001b[49m\u001b[38;5;124;43m\"\u001b[39;49m\u001b[38;5;124;43mface_embs.npy\u001b[39;49m\u001b[38;5;124;43m\"\u001b[39;49m\u001b[43m)\u001b[49m \n\u001b[1;32m     20\u001b[0m \u001b[38;5;66;03m#similarity search\u001b[39;00m\n\u001b[1;32m     21\u001b[0m embs_norm \u001b[38;5;241m=\u001b[39m embs \u001b[38;5;241m/\u001b[39m np\u001b[38;5;241m.\u001b[39mlinalg\u001b[38;5;241m.\u001b[39mnorm(embs, \u001b[38;5;28mord\u001b[39m \u001b[38;5;241m=\u001b[39m \u001b[38;5;241m2\u001b[39m, axis \u001b[38;5;241m=\u001b[39m \u001b[38;5;241m1\u001b[39m,  keepdims \u001b[38;5;241m=\u001b[39m \u001b[38;5;28;01mTrue\u001b[39;00m)\n",
      "File \u001b[0;32m~/anaconda3/envs/ml/lib/python3.9/site-packages/numpy/lib/_npyio_impl.py:455\u001b[0m, in \u001b[0;36mload\u001b[0;34m(file, mmap_mode, allow_pickle, fix_imports, encoding, max_header_size)\u001b[0m\n\u001b[1;32m    453\u001b[0m     own_fid \u001b[38;5;241m=\u001b[39m \u001b[38;5;28;01mFalse\u001b[39;00m\n\u001b[1;32m    454\u001b[0m \u001b[38;5;28;01melse\u001b[39;00m:\n\u001b[0;32m--> 455\u001b[0m     fid \u001b[38;5;241m=\u001b[39m stack\u001b[38;5;241m.\u001b[39menter_context(\u001b[38;5;28;43mopen\u001b[39;49m\u001b[43m(\u001b[49m\u001b[43mos\u001b[49m\u001b[38;5;241;43m.\u001b[39;49m\u001b[43mfspath\u001b[49m\u001b[43m(\u001b[49m\u001b[43mfile\u001b[49m\u001b[43m)\u001b[49m\u001b[43m,\u001b[49m\u001b[43m \u001b[49m\u001b[38;5;124;43m\"\u001b[39;49m\u001b[38;5;124;43mrb\u001b[39;49m\u001b[38;5;124;43m\"\u001b[39;49m\u001b[43m)\u001b[49m)\n\u001b[1;32m    456\u001b[0m     own_fid \u001b[38;5;241m=\u001b[39m \u001b[38;5;28;01mTrue\u001b[39;00m\n\u001b[1;32m    458\u001b[0m \u001b[38;5;66;03m# Code to distinguish from NumPy binary files and pickles.\u001b[39;00m\n",
      "\u001b[0;31mFileNotFoundError\u001b[0m: [Errno 2] No such file or directory: 'face_embs.npy'"
     ]
    }
   ],
   "source": [
    "embs = []\n",
    "names = []\n",
    "compute = True \n",
    "with open(ffaces)  as f: \n",
    "    for line in f : \n",
    "        iname, icl = line.split()\n",
    "        iname = os.path.join(datapath, iname.strip())\n",
    "        print(iname)\n",
    "        names.append(icl)\n",
    "        if compute :\n",
    "            emb = get_face_embedding(iname)\n",
    "            if len(embs) == 0 :\n",
    "                embs = emb\n",
    "            else :\n",
    "                embs = np.vstack([embs, emb])\n",
    "\n",
    "print(embs.shape)\n",
    "np.save(\"face_embs.npy\", embs)\n",
    "# embs = np.load(\"face_embs.npy\") \n",
    "#similarity search\n",
    "embs_norm = embs / np.linalg.norm(embs, ord = 2, axis = 1,  keepdims = True)\n",
    "sim = embs_norm @ np.transpose(embs_norm)\n",
    "idx_sort =  np.argsort(-sim, axis = 1)\n",
    "print(idx_sort)\n",
    "for  idx, row in enumerate(idx_sort) :    \n",
    "    result = [(names[i], sim[idx, i]) for i in row[:5] ]\n",
    "    print(result)\n"
   ]
  }
 ],
 "metadata": {
  "kernelspec": {
   "display_name": "ml",
   "language": "python",
   "name": "python3"
  },
  "language_info": {
   "codemirror_mode": {
    "name": "ipython",
    "version": 3
   },
   "file_extension": ".py",
   "mimetype": "text/x-python",
   "name": "python",
   "nbconvert_exporter": "python",
   "pygments_lexer": "ipython3",
   "version": "3.9.21"
  }
 },
 "nbformat": 4,
 "nbformat_minor": 5
}
