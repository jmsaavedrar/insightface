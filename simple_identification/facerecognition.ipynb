{
  "cells": [
    {
      "cell_type": "code",
      "execution_count": 1,
      "id": "5010ef70",
      "metadata": {
        "id": "5010ef70"
      },
      "outputs": [],
      "source": [
        "#importamos módulos básicos\n",
        "import os\n",
        "# PIL de pillow es un buen módulo para procesar imágenes\n",
        "import PIL\n",
        "import PIL.Image\n",
        "import numpy as np"
      ]
    },
    {
      "cell_type": "code",
      "source": [
        "# instalamos módulos para procesar rostros\n",
        "!pip install -U insightface\n",
        "!pip install onnxruntime\n",
        "from insightface.app import FaceAnalysis"
      ],
      "metadata": {
        "colab": {
          "base_uri": "https://localhost:8080/"
        },
        "id": "xRIoWjUzlVX4",
        "outputId": "d44ed9cc-37fa-45b1-8785-77f2b5407e56"
      },
      "id": "xRIoWjUzlVX4",
      "execution_count": 2,
      "outputs": [
        {
          "output_type": "stream",
          "name": "stdout",
          "text": [
            "Collecting insightface\n",
            "  Downloading insightface-0.7.3.tar.gz (439 kB)\n",
            "\u001b[?25l     \u001b[90m━━━━━━━━━━━━━━━━━━━━━━━━━━━━━━━━━━━━━━━━\u001b[0m \u001b[32m0.0/439.5 kB\u001b[0m \u001b[31m?\u001b[0m eta \u001b[36m-:--:--\u001b[0m\r\u001b[2K     \u001b[91m━━━━━━━━━━━━\u001b[0m\u001b[91m╸\u001b[0m\u001b[90m━━━━━━━━━━━━━━━━━━━━━━━━━━\u001b[0m \u001b[32m143.4/439.5 kB\u001b[0m \u001b[31m4.2 MB/s\u001b[0m eta \u001b[36m0:00:01\u001b[0m\r\u001b[2K     \u001b[91m━━━━━━━━━━━━━━━━━━━━━━━━━━━━━━━━━━━━━━\u001b[0m\u001b[90m╺\u001b[0m \u001b[32m430.1/439.5 kB\u001b[0m \u001b[31m6.5 MB/s\u001b[0m eta \u001b[36m0:00:01\u001b[0m\r\u001b[2K     \u001b[90m━━━━━━━━━━━━━━━━━━━━━━━━━━━━━━━━━━━━━━━\u001b[0m \u001b[32m439.5/439.5 kB\u001b[0m \u001b[31m4.5 MB/s\u001b[0m eta \u001b[36m0:00:00\u001b[0m\n",
            "\u001b[?25h  Installing build dependencies ... \u001b[?25l\u001b[?25hdone\n",
            "  Getting requirements to build wheel ... \u001b[?25l\u001b[?25hdone\n",
            "  Preparing metadata (pyproject.toml) ... \u001b[?25l\u001b[?25hdone\n",
            "Requirement already satisfied: numpy in /usr/local/lib/python3.11/dist-packages (from insightface) (2.0.2)\n",
            "Collecting onnx (from insightface)\n",
            "  Downloading onnx-1.18.0-cp311-cp311-manylinux_2_17_x86_64.manylinux2014_x86_64.whl.metadata (6.9 kB)\n",
            "Requirement already satisfied: tqdm in /usr/local/lib/python3.11/dist-packages (from insightface) (4.67.1)\n",
            "Requirement already satisfied: requests in /usr/local/lib/python3.11/dist-packages (from insightface) (2.32.3)\n",
            "Requirement already satisfied: matplotlib in /usr/local/lib/python3.11/dist-packages (from insightface) (3.10.0)\n",
            "Requirement already satisfied: Pillow in /usr/local/lib/python3.11/dist-packages (from insightface) (11.3.0)\n",
            "Requirement already satisfied: scipy in /usr/local/lib/python3.11/dist-packages (from insightface) (1.16.0)\n",
            "Requirement already satisfied: scikit-learn in /usr/local/lib/python3.11/dist-packages (from insightface) (1.6.1)\n",
            "Requirement already satisfied: scikit-image in /usr/local/lib/python3.11/dist-packages (from insightface) (0.25.2)\n",
            "Requirement already satisfied: easydict in /usr/local/lib/python3.11/dist-packages (from insightface) (1.13)\n",
            "Requirement already satisfied: cython in /usr/local/lib/python3.11/dist-packages (from insightface) (3.0.12)\n",
            "Requirement already satisfied: albumentations in /usr/local/lib/python3.11/dist-packages (from insightface) (2.0.8)\n",
            "Requirement already satisfied: prettytable in /usr/local/lib/python3.11/dist-packages (from insightface) (3.16.0)\n",
            "Requirement already satisfied: PyYAML in /usr/local/lib/python3.11/dist-packages (from albumentations->insightface) (6.0.2)\n",
            "Requirement already satisfied: pydantic>=2.9.2 in /usr/local/lib/python3.11/dist-packages (from albumentations->insightface) (2.11.7)\n",
            "Requirement already satisfied: albucore==0.0.24 in /usr/local/lib/python3.11/dist-packages (from albumentations->insightface) (0.0.24)\n",
            "Requirement already satisfied: opencv-python-headless>=4.9.0.80 in /usr/local/lib/python3.11/dist-packages (from albumentations->insightface) (4.12.0.88)\n",
            "Requirement already satisfied: stringzilla>=3.10.4 in /usr/local/lib/python3.11/dist-packages (from albucore==0.0.24->albumentations->insightface) (3.12.5)\n",
            "Requirement already satisfied: simsimd>=5.9.2 in /usr/local/lib/python3.11/dist-packages (from albucore==0.0.24->albumentations->insightface) (6.5.0)\n",
            "Requirement already satisfied: contourpy>=1.0.1 in /usr/local/lib/python3.11/dist-packages (from matplotlib->insightface) (1.3.2)\n",
            "Requirement already satisfied: cycler>=0.10 in /usr/local/lib/python3.11/dist-packages (from matplotlib->insightface) (0.12.1)\n",
            "Requirement already satisfied: fonttools>=4.22.0 in /usr/local/lib/python3.11/dist-packages (from matplotlib->insightface) (4.59.0)\n",
            "Requirement already satisfied: kiwisolver>=1.3.1 in /usr/local/lib/python3.11/dist-packages (from matplotlib->insightface) (1.4.8)\n",
            "Requirement already satisfied: packaging>=20.0 in /usr/local/lib/python3.11/dist-packages (from matplotlib->insightface) (25.0)\n",
            "Requirement already satisfied: pyparsing>=2.3.1 in /usr/local/lib/python3.11/dist-packages (from matplotlib->insightface) (3.2.3)\n",
            "Requirement already satisfied: python-dateutil>=2.7 in /usr/local/lib/python3.11/dist-packages (from matplotlib->insightface) (2.9.0.post0)\n",
            "Requirement already satisfied: protobuf>=4.25.1 in /usr/local/lib/python3.11/dist-packages (from onnx->insightface) (5.29.5)\n",
            "Requirement already satisfied: typing_extensions>=4.7.1 in /usr/local/lib/python3.11/dist-packages (from onnx->insightface) (4.14.1)\n",
            "Requirement already satisfied: wcwidth in /usr/local/lib/python3.11/dist-packages (from prettytable->insightface) (0.2.13)\n",
            "Requirement already satisfied: charset-normalizer<4,>=2 in /usr/local/lib/python3.11/dist-packages (from requests->insightface) (3.4.2)\n",
            "Requirement already satisfied: idna<4,>=2.5 in /usr/local/lib/python3.11/dist-packages (from requests->insightface) (3.10)\n",
            "Requirement already satisfied: urllib3<3,>=1.21.1 in /usr/local/lib/python3.11/dist-packages (from requests->insightface) (2.5.0)\n",
            "Requirement already satisfied: certifi>=2017.4.17 in /usr/local/lib/python3.11/dist-packages (from requests->insightface) (2025.7.14)\n",
            "Requirement already satisfied: networkx>=3.0 in /usr/local/lib/python3.11/dist-packages (from scikit-image->insightface) (3.5)\n",
            "Requirement already satisfied: imageio!=2.35.0,>=2.33 in /usr/local/lib/python3.11/dist-packages (from scikit-image->insightface) (2.37.0)\n",
            "Requirement already satisfied: tifffile>=2022.8.12 in /usr/local/lib/python3.11/dist-packages (from scikit-image->insightface) (2025.6.11)\n",
            "Requirement already satisfied: lazy-loader>=0.4 in /usr/local/lib/python3.11/dist-packages (from scikit-image->insightface) (0.4)\n",
            "Requirement already satisfied: joblib>=1.2.0 in /usr/local/lib/python3.11/dist-packages (from scikit-learn->insightface) (1.5.1)\n",
            "Requirement already satisfied: threadpoolctl>=3.1.0 in /usr/local/lib/python3.11/dist-packages (from scikit-learn->insightface) (3.6.0)\n",
            "Requirement already satisfied: annotated-types>=0.6.0 in /usr/local/lib/python3.11/dist-packages (from pydantic>=2.9.2->albumentations->insightface) (0.7.0)\n",
            "Requirement already satisfied: pydantic-core==2.33.2 in /usr/local/lib/python3.11/dist-packages (from pydantic>=2.9.2->albumentations->insightface) (2.33.2)\n",
            "Requirement already satisfied: typing-inspection>=0.4.0 in /usr/local/lib/python3.11/dist-packages (from pydantic>=2.9.2->albumentations->insightface) (0.4.1)\n",
            "Requirement already satisfied: six>=1.5 in /usr/local/lib/python3.11/dist-packages (from python-dateutil>=2.7->matplotlib->insightface) (1.17.0)\n",
            "Downloading onnx-1.18.0-cp311-cp311-manylinux_2_17_x86_64.manylinux2014_x86_64.whl (17.6 MB)\n",
            "\u001b[2K   \u001b[90m━━━━━━━━━━━━━━━━━━━━━━━━━━━━━━━━━━━━━━━━\u001b[0m \u001b[32m17.6/17.6 MB\u001b[0m \u001b[31m56.6 MB/s\u001b[0m eta \u001b[36m0:00:00\u001b[0m\n",
            "\u001b[?25hBuilding wheels for collected packages: insightface\n",
            "  Building wheel for insightface (pyproject.toml) ... \u001b[?25l\u001b[?25hdone\n",
            "  Created wheel for insightface: filename=insightface-0.7.3-cp311-cp311-linux_x86_64.whl size=1060438 sha256=7bcc4595d78ba59d25163d7db5f1097428d0606122c17a0fd4971e37f473d692\n",
            "  Stored in directory: /root/.cache/pip/wheels/27/d8/22/f52d858d16cd06e7b2e6aad34a1777dcfaf000be833bbf8146\n",
            "Successfully built insightface\n",
            "Installing collected packages: onnx, insightface\n",
            "Successfully installed insightface-0.7.3 onnx-1.18.0\n",
            "Collecting onnxruntime\n",
            "  Downloading onnxruntime-1.22.1-cp311-cp311-manylinux_2_27_x86_64.manylinux_2_28_x86_64.whl.metadata (4.6 kB)\n",
            "Collecting coloredlogs (from onnxruntime)\n",
            "  Downloading coloredlogs-15.0.1-py2.py3-none-any.whl.metadata (12 kB)\n",
            "Requirement already satisfied: flatbuffers in /usr/local/lib/python3.11/dist-packages (from onnxruntime) (25.2.10)\n",
            "Requirement already satisfied: numpy>=1.21.6 in /usr/local/lib/python3.11/dist-packages (from onnxruntime) (2.0.2)\n",
            "Requirement already satisfied: packaging in /usr/local/lib/python3.11/dist-packages (from onnxruntime) (25.0)\n",
            "Requirement already satisfied: protobuf in /usr/local/lib/python3.11/dist-packages (from onnxruntime) (5.29.5)\n",
            "Requirement already satisfied: sympy in /usr/local/lib/python3.11/dist-packages (from onnxruntime) (1.13.1)\n",
            "Collecting humanfriendly>=9.1 (from coloredlogs->onnxruntime)\n",
            "  Downloading humanfriendly-10.0-py2.py3-none-any.whl.metadata (9.2 kB)\n",
            "Requirement already satisfied: mpmath<1.4,>=1.1.0 in /usr/local/lib/python3.11/dist-packages (from sympy->onnxruntime) (1.3.0)\n",
            "Downloading onnxruntime-1.22.1-cp311-cp311-manylinux_2_27_x86_64.manylinux_2_28_x86_64.whl (16.5 MB)\n",
            "\u001b[2K   \u001b[90m━━━━━━━━━━━━━━━━━━━━━━━━━━━━━━━━━━━━━━━━\u001b[0m \u001b[32m16.5/16.5 MB\u001b[0m \u001b[31m99.4 MB/s\u001b[0m eta \u001b[36m0:00:00\u001b[0m\n",
            "\u001b[?25hDownloading coloredlogs-15.0.1-py2.py3-none-any.whl (46 kB)\n",
            "\u001b[2K   \u001b[90m━━━━━━━━━━━━━━━━━━━━━━━━━━━━━━━━━━━━━━━━\u001b[0m \u001b[32m46.0/46.0 kB\u001b[0m \u001b[31m4.4 MB/s\u001b[0m eta \u001b[36m0:00:00\u001b[0m\n",
            "\u001b[?25hDownloading humanfriendly-10.0-py2.py3-none-any.whl (86 kB)\n",
            "\u001b[2K   \u001b[90m━━━━━━━━━━━━━━━━━━━━━━━━━━━━━━━━━━━━━━━━\u001b[0m \u001b[32m86.8/86.8 kB\u001b[0m \u001b[31m8.7 MB/s\u001b[0m eta \u001b[36m0:00:00\u001b[0m\n",
            "\u001b[?25hInstalling collected packages: humanfriendly, coloredlogs, onnxruntime\n",
            "Successfully installed coloredlogs-15.0.1 humanfriendly-10.0 onnxruntime-1.22.1\n"
          ]
        }
      ]
    },
    {
      "cell_type": "code",
      "execution_count": 3,
      "id": "864afe6f",
      "metadata": {
        "colab": {
          "base_uri": "https://localhost:8080/"
        },
        "id": "864afe6f",
        "outputId": "18bb9a62-a640-4095-d47b-7c6e84cad20b"
      },
      "outputs": [
        {
          "output_type": "stream",
          "name": "stdout",
          "text": [
            "--2025-07-24 00:55:58--  https://www.dropbox.com/scl/fi/b9y03enpi01zfb36ckyir/personas.zip?rlkey=19wypqmaps5b5n28bz3gi7xg7&st=s6p3564g&dl=0\n",
            "Resolving www.dropbox.com (www.dropbox.com)... 162.125.4.18, 2620:100:601c:18::a27d:612\n",
            "Connecting to www.dropbox.com (www.dropbox.com)|162.125.4.18|:443... connected.\n",
            "HTTP request sent, awaiting response... 302 Found\n",
            "Location: https://uc74e0cb917352a000ea9a0f683b.dl.dropboxusercontent.com/cd/0/inline/CuGGJIfpIGO_T-Yz-ELXW35ThGpBCkcMr7jxD5obG40l6axLioGryOm6LqcF9In1FoR_lzs0dpn65Ewi7w7_0-Q44ZlMAF49W0Ga4QumSJEXGsLvlA8S8_Y_gghqwWM4hTWwqx1O7zWf7f7F1nVif1ph/file# [following]\n",
            "--2025-07-24 00:55:59--  https://uc74e0cb917352a000ea9a0f683b.dl.dropboxusercontent.com/cd/0/inline/CuGGJIfpIGO_T-Yz-ELXW35ThGpBCkcMr7jxD5obG40l6axLioGryOm6LqcF9In1FoR_lzs0dpn65Ewi7w7_0-Q44ZlMAF49W0Ga4QumSJEXGsLvlA8S8_Y_gghqwWM4hTWwqx1O7zWf7f7F1nVif1ph/file\n",
            "Resolving uc74e0cb917352a000ea9a0f683b.dl.dropboxusercontent.com (uc74e0cb917352a000ea9a0f683b.dl.dropboxusercontent.com)... 162.125.13.15, 2620:100:601c:15::a27d:60f\n",
            "Connecting to uc74e0cb917352a000ea9a0f683b.dl.dropboxusercontent.com (uc74e0cb917352a000ea9a0f683b.dl.dropboxusercontent.com)|162.125.13.15|:443... connected.\n",
            "HTTP request sent, awaiting response... 302 Found\n",
            "Location: /cd/0/inline2/CuHQ7Bg4XDOT9tE9GjdOCGtfGIROpmOHo6BfkC4cC1_PW9ocxqIO2E-1CsztCj65n4WSR03Zhi94Fj57uR2bqcklXy-hrIBW_4KjAMk7CaZfXv6zOaDXwQtBZ3O_53uED4-p1eqQly3PiZLljkomiMr_sECm6r8s5eKHSGvYuHedcxsa00-qaBj6frnUUkvfgUZw6axt1yGfJQc0krrRdkoL12Q3yvq17sQByXqjm-qXVhtaDHARD5N9WmOFw2Teif6EJff5SIaWjxZ1NPs3S0eu_iWbpOG5GyanoXpV87qvyJ5dLvP2EgbQ0uMAx_UbK1mNV43Nin3PQGOMX9dNSO0iHp_gfCWI3OTmvZQ2JPHQGyDQwLPtKn0zsugJGtGWRiQ/file [following]\n",
            "--2025-07-24 00:55:59--  https://uc74e0cb917352a000ea9a0f683b.dl.dropboxusercontent.com/cd/0/inline2/CuHQ7Bg4XDOT9tE9GjdOCGtfGIROpmOHo6BfkC4cC1_PW9ocxqIO2E-1CsztCj65n4WSR03Zhi94Fj57uR2bqcklXy-hrIBW_4KjAMk7CaZfXv6zOaDXwQtBZ3O_53uED4-p1eqQly3PiZLljkomiMr_sECm6r8s5eKHSGvYuHedcxsa00-qaBj6frnUUkvfgUZw6axt1yGfJQc0krrRdkoL12Q3yvq17sQByXqjm-qXVhtaDHARD5N9WmOFw2Teif6EJff5SIaWjxZ1NPs3S0eu_iWbpOG5GyanoXpV87qvyJ5dLvP2EgbQ0uMAx_UbK1mNV43Nin3PQGOMX9dNSO0iHp_gfCWI3OTmvZQ2JPHQGyDQwLPtKn0zsugJGtGWRiQ/file\n",
            "Reusing existing connection to uc74e0cb917352a000ea9a0f683b.dl.dropboxusercontent.com:443.\n",
            "HTTP request sent, awaiting response... 200 OK\n",
            "Length: 1315412 (1.3M) [application/zip]\n",
            "Saving to: ‘personas.zip’\n",
            "\n",
            "personas.zip        100%[===================>]   1.25M  --.-KB/s    in 0.1s    \n",
            "\n",
            "2025-07-24 00:55:59 (9.98 MB/s) - ‘personas.zip’ saved [1315412/1315412]\n",
            "\n"
          ]
        }
      ],
      "source": [
        "# descargar un pequeño dataset de prueba\n",
        "!wget \"https://www.dropbox.com/scl/fi/b9y03enpi01zfb36ckyir/personas.zip?rlkey=19wypqmaps5b5n28bz3gi7xg7&st=s6p3564g&dl=0\" -O personas.zip"
      ]
    },
    {
      "cell_type": "code",
      "source": [
        "# descomprimimos el dataset con 7 personalidades\n",
        "!unzip personas.zip"
      ],
      "metadata": {
        "colab": {
          "base_uri": "https://localhost:8080/"
        },
        "id": "7H_BhHsRmkjj",
        "outputId": "9ef5a7ca-e64b-4d09-f520-6b81232b764a"
      },
      "id": "7H_BhHsRmkjj",
      "execution_count": 4,
      "outputs": [
        {
          "output_type": "stream",
          "name": "stdout",
          "text": [
            "Archive:  personas.zip\n",
            "   creating: personas/\n",
            "   creating: personas/barack/\n",
            "  inflating: personas/barack/face_2.jpeg  \n",
            "  inflating: personas/barack/barack.jpeg  \n",
            "  inflating: personas/barack/barack_2.jpeg  \n",
            "   creating: personas/dicaprio/\n",
            "  inflating: personas/dicaprio/dicaprio_2.png  \n",
            "  inflating: personas/dicaprio/dicaprio.jpg  \n",
            "   creating: personas/pancho/\n",
            "  inflating: personas/pancho/pancho.jpeg  \n",
            "  inflating: personas/pancho/pancho2.jpeg  \n",
            "   creating: personas/thalia/\n",
            "  inflating: personas/thalia/thalia2.jpg  \n",
            "  inflating: personas/thalia/thalia1.jpg  \n",
            "   creating: personas/paulina/\n",
            "  inflating: personas/paulina/paulina2.png  \n",
            "  inflating: personas/paulina/paulina1.jpeg  \n",
            "  inflating: personas/faces.txt      \n",
            "   creating: personas/mario/\n",
            "  inflating: personas/mario/mario1.png  \n",
            "  inflating: personas/mario/mario2.png  \n",
            "   creating: personas/michelle/\n",
            "  inflating: personas/michelle/michelle_obama_2.jpg  \n",
            "  inflating: personas/michelle/michelle_obama_1.jpeg  \n"
          ]
        }
      ]
    },
    {
      "cell_type": "code",
      "execution_count": 21,
      "id": "d4de11e6",
      "metadata": {
        "colab": {
          "base_uri": "https://localhost:8080/"
        },
        "id": "d4de11e6",
        "outputId": "a05393ae-83dc-4992-810e-236f4d8491ce"
      },
      "outputs": [
        {
          "output_type": "stream",
          "name": "stdout",
          "text": [
            "[{'path': '/content/personas/paulina/paulina2.png', 'name': 'paulina'}, {'path': '/content/personas/paulina/paulina1.jpeg', 'name': 'paulina'}, {'path': '/content/personas/dicaprio/dicaprio_2.png', 'name': 'dicaprio'}, {'path': '/content/personas/dicaprio/dicaprio.jpg', 'name': 'dicaprio'}, {'path': '/content/personas/barack/barack.jpeg', 'name': 'barack'}, {'path': '/content/personas/barack/barack_2.jpeg', 'name': 'barack'}, {'path': '/content/personas/barack/face_2.jpeg', 'name': 'barack'}, {'path': '/content/personas/pancho/pancho.jpeg', 'name': 'pancho'}, {'path': '/content/personas/pancho/pancho2.jpeg', 'name': 'pancho'}, {'path': '/content/personas/thalia/thalia1.jpg', 'name': 'thalia'}, {'path': '/content/personas/thalia/thalia2.jpg', 'name': 'thalia'}, {'path': '/content/personas/mario/mario1.png', 'name': 'mario'}, {'path': '/content/personas/mario/mario2.png', 'name': 'mario'}, {'path': '/content/personas/michelle/michelle_obama_1.jpeg', 'name': 'michelle'}, {'path': '/content/personas/michelle/michelle_obama_2.jpg', 'name': 'michelle'}]\n"
          ]
        }
      ],
      "source": [
        "datapath = '/content/personas'\n",
        "ffaces = os.path.join(datapath, 'faces.txt')\n",
        "fdata = []\n",
        "with open(ffaces) as f:\n",
        "  for line in f :\n",
        "    iname, icl = line.split()\n",
        "    iname = os.path.join(datapath, iname)\n",
        "    fdata.append({'path': iname, 'name': icl})\n",
        "print(fdata)"
      ]
    },
    {
      "cell_type": "code",
      "source": [
        "# inicializamos el modelo de rostros\n",
        "app = FaceAnalysis(name='buffalo_l', providers=['CPUExecutionProvider'])  # Use 'CUDAExecutionProvider' for GPU\n",
        "app.prepare(ctx_id=0)  # ctx_id=-1 for CPU, 0 for GPU\n",
        "\n",
        "def get_face_embedding(image_path):\n",
        "    \"\"\"Extract face embedding from an image\"\"\"\n",
        "    img = PIL.Image.open(image_path)\n",
        "    if img is None:\n",
        "        raise ValueError(f\"Could not read image: {image_path}\")\n",
        "    img = np.array(img)\n",
        "    if img.shape[2] == 4 :\n",
        "      img = img[:,:,:-1]\n",
        "    faces = app.get(img)\n",
        "    if len(faces) < 1:\n",
        "        raise ValueError(\"No faces detected in the image\")\n",
        "    if len(faces) > 1:\n",
        "        print(\"Warning: Multiple faces detected. Using first detected face\")\n",
        "    # retorna el primer rostro junto con su embedding\n",
        "    return faces[0].embedding"
      ],
      "metadata": {
        "id": "qAvj_YtWpeAi",
        "outputId": "ff67b399-93c4-4fea-942e-4c1417a02adc",
        "colab": {
          "base_uri": "https://localhost:8080/"
        }
      },
      "id": "qAvj_YtWpeAi",
      "execution_count": 15,
      "outputs": [
        {
          "output_type": "stream",
          "name": "stdout",
          "text": [
            "Applied providers: ['CPUExecutionProvider'], with options: {'CPUExecutionProvider': {}}\n",
            "find model: /root/.insightface/models/buffalo_l/1k3d68.onnx landmark_3d_68 ['None', 3, 192, 192] 0.0 1.0\n",
            "Applied providers: ['CPUExecutionProvider'], with options: {'CPUExecutionProvider': {}}\n",
            "find model: /root/.insightface/models/buffalo_l/2d106det.onnx landmark_2d_106 ['None', 3, 192, 192] 0.0 1.0\n",
            "Applied providers: ['CPUExecutionProvider'], with options: {'CPUExecutionProvider': {}}\n",
            "find model: /root/.insightface/models/buffalo_l/det_10g.onnx detection [1, 3, '?', '?'] 127.5 128.0\n",
            "Applied providers: ['CPUExecutionProvider'], with options: {'CPUExecutionProvider': {}}\n",
            "find model: /root/.insightface/models/buffalo_l/genderage.onnx genderage ['None', 3, 96, 96] 0.0 1.0\n",
            "Applied providers: ['CPUExecutionProvider'], with options: {'CPUExecutionProvider': {}}\n",
            "find model: /root/.insightface/models/buffalo_l/w600k_r50.onnx recognition ['None', 3, 112, 112] 127.5 127.5\n",
            "set det-size: (640, 640)\n"
          ]
        }
      ]
    },
    {
      "cell_type": "code",
      "execution_count": 30,
      "id": "76abb174",
      "metadata": {
        "id": "76abb174"
      },
      "outputs": [],
      "source": [
        "# recorremos la lista de rostros\n",
        "embs = []\n",
        "names = []\n",
        "compute = True\n",
        "for person in fdata:\n",
        "    emb = get_face_embedding(person['path'])\n",
        "    person['emb'] = emb"
      ]
    },
    {
      "cell_type": "code",
      "source": [
        "# formar una matriz de embeddings\n",
        "n = len(fdata)\n",
        "dim = len(fdata[0]['emb'])\n",
        "embs = np.zeros((n, dim), dtype = np.float32)\n",
        "for i, person in enumerate(fdata) :\n",
        "  embs[i, :] = person['emb']"
      ],
      "metadata": {
        "id": "_nnhr4izBSZv"
      },
      "id": "_nnhr4izBSZv",
      "execution_count": 25,
      "outputs": []
    },
    {
      "cell_type": "code",
      "source": [
        "print(embs.shape)"
      ],
      "metadata": {
        "id": "fVH2qqPpvJFQ",
        "outputId": "f37ec9a2-745e-4271-c404-345f1cb35f4d",
        "colab": {
          "base_uri": "https://localhost:8080/"
        }
      },
      "id": "fVH2qqPpvJFQ",
      "execution_count": 26,
      "outputs": [
        {
          "output_type": "stream",
          "name": "stdout",
          "text": [
            "(15, 512)\n"
          ]
        }
      ]
    },
    {
      "cell_type": "code",
      "source": [
        "#np.save(\"face_embs.npy\", embs)\n",
        "# embs = np.load(\"face_embs.npy\")\n",
        "#similarity search\n",
        "embs_norm = embs / np.linalg.norm(embs, ord = 2, axis = 1,  keepdims = True)\n",
        "sim = embs_norm @ np.transpose(embs_norm)\n",
        "print(sim)\n"
      ],
      "metadata": {
        "id": "3ycGg_QAt1eQ",
        "outputId": "3bb6a9f6-ba93-49f1-ba4c-903bbbef6a21",
        "colab": {
          "base_uri": "https://localhost:8080/"
        }
      },
      "id": "3ycGg_QAt1eQ",
      "execution_count": 27,
      "outputs": [
        {
          "output_type": "stream",
          "name": "stdout",
          "text": [
            "[[0.9999999 0.9999999 0.9999999 0.9999999 0.9999999 0.9999999 0.9999999\n",
            "  0.9999999 0.9999999 0.9999999 0.9999999 0.9999999 0.9999999 0.9999999\n",
            "  0.9999999]\n",
            " [0.9999999 0.9999999 0.9999999 0.9999999 0.9999999 0.9999999 0.9999999\n",
            "  0.9999999 0.9999999 0.9999999 0.9999999 0.9999999 0.9999999 0.9999999\n",
            "  0.9999999]\n",
            " [0.9999999 0.9999999 0.9999999 0.9999999 0.9999999 0.9999999 0.9999999\n",
            "  0.9999999 0.9999999 0.9999999 0.9999999 0.9999999 0.9999999 0.9999999\n",
            "  0.9999999]\n",
            " [0.9999999 0.9999999 0.9999999 0.9999999 0.9999999 0.9999999 0.9999999\n",
            "  0.9999999 0.9999999 0.9999999 0.9999999 0.9999999 0.9999999 0.9999999\n",
            "  0.9999999]\n",
            " [0.9999999 0.9999999 0.9999999 0.9999999 0.9999999 0.9999999 0.9999999\n",
            "  0.9999999 0.9999999 0.9999999 0.9999999 0.9999999 0.9999999 0.9999999\n",
            "  0.9999999]\n",
            " [0.9999999 0.9999999 0.9999999 0.9999999 0.9999999 0.9999999 0.9999999\n",
            "  0.9999999 0.9999999 0.9999999 0.9999999 0.9999999 0.9999999 0.9999999\n",
            "  0.9999999]\n",
            " [0.9999999 0.9999999 0.9999999 0.9999999 0.9999999 0.9999999 0.9999999\n",
            "  0.9999999 0.9999999 0.9999999 0.9999999 0.9999999 0.9999999 0.9999999\n",
            "  0.9999999]\n",
            " [0.9999999 0.9999999 0.9999999 0.9999999 0.9999999 0.9999999 0.9999999\n",
            "  0.9999999 0.9999999 0.9999999 0.9999999 0.9999999 0.9999999 0.9999999\n",
            "  0.9999999]\n",
            " [0.9999999 0.9999999 0.9999999 0.9999999 0.9999999 0.9999999 0.9999999\n",
            "  0.9999999 0.9999999 0.9999999 0.9999999 0.9999999 0.9999999 0.9999999\n",
            "  0.9999999]\n",
            " [0.9999999 0.9999999 0.9999999 0.9999999 0.9999999 0.9999999 0.9999999\n",
            "  0.9999999 0.9999999 0.9999999 0.9999999 0.9999999 0.9999999 0.9999999\n",
            "  0.9999999]\n",
            " [0.9999999 0.9999999 0.9999999 0.9999999 0.9999999 0.9999999 0.9999999\n",
            "  0.9999999 0.9999999 0.9999999 0.9999999 0.9999999 0.9999999 0.9999999\n",
            "  0.9999999]\n",
            " [0.9999999 0.9999999 0.9999999 0.9999999 0.9999999 0.9999999 0.9999999\n",
            "  0.9999999 0.9999999 0.9999999 0.9999999 0.9999999 0.9999999 0.9999999\n",
            "  0.9999999]\n",
            " [0.9999999 0.9999999 0.9999999 0.9999999 0.9999999 0.9999999 0.9999999\n",
            "  0.9999999 0.9999999 0.9999999 0.9999999 0.9999999 0.9999999 0.9999999\n",
            "  0.9999999]\n",
            " [0.9999999 0.9999999 0.9999999 0.9999999 0.9999999 0.9999999 0.9999999\n",
            "  0.9999999 0.9999999 0.9999999 0.9999999 0.9999999 0.9999999 0.9999999\n",
            "  0.9999999]\n",
            " [0.9999999 0.9999999 0.9999999 0.9999999 0.9999999 0.9999999 0.9999999\n",
            "  0.9999999 0.9999999 0.9999999 0.9999999 0.9999999 0.9999999 0.9999999\n",
            "  0.9999999]]\n"
          ]
        }
      ]
    },
    {
      "cell_type": "code",
      "source": [
        "idx_sort =  np.argsort(-sim, axis = 1)\n",
        "print(idx_sort)\n"
      ],
      "metadata": {
        "id": "bVaGH0eLxc6s",
        "outputId": "dd04eb21-5ed2-4ebf-f041-f5c0b3eb56f6",
        "colab": {
          "base_uri": "https://localhost:8080/"
        }
      },
      "id": "bVaGH0eLxc6s",
      "execution_count": 28,
      "outputs": [
        {
          "output_type": "stream",
          "name": "stdout",
          "text": [
            "[[ 0  1  2  3  4  5  6  7  8  9 10 11 12 13 14]\n",
            " [ 0  1  2  3  4  5  6  7  8  9 10 11 12 13 14]\n",
            " [ 0  1  2  3  4  5  6  7  8  9 10 11 12 13 14]\n",
            " [ 0  1  2  3  4  5  6  7  8  9 10 11 12 13 14]\n",
            " [ 0  1  2  3  4  5  6  7  8  9 10 11 12 13 14]\n",
            " [ 0  1  2  3  4  5  6  7  8  9 10 11 12 13 14]\n",
            " [ 0  1  2  3  4  5  6  7  8  9 10 11 12 13 14]\n",
            " [ 0  1  2  3  4  5  6  7  8  9 10 11 12 13 14]\n",
            " [ 0  1  2  3  4  5  6  7  8  9 10 11 12 13 14]\n",
            " [ 0  1  2  3  4  5  6  7  8  9 10 11 12 13 14]\n",
            " [ 0  1  2  3  4  5  6  7  8  9 10 11 12 13 14]\n",
            " [ 0  1  2  3  4  5  6  7  8  9 10 11 12 13 14]\n",
            " [ 0  1  2  3  4  5  6  7  8  9 10 11 12 13 14]\n",
            " [ 0  1  2  3  4  5  6  7  8  9 10 11 12 13 14]\n",
            " [ 0  1  2  3  4  5  6  7  8  9 10 11 12 13 14]]\n"
          ]
        }
      ]
    },
    {
      "cell_type": "code",
      "source": [
        "for  idx, row in enumerate(idx_sort) :\n",
        "    name_query = names[idx]\n",
        "    print('Query Name = {}'.format(name_query))\n",
        "    result = [(names[i], sim[idx, i]) for i in row[1:5] ]\n",
        "    print(result)\n"
      ],
      "metadata": {
        "id": "vC3RMVA8y_CJ",
        "outputId": "23c51635-7417-4985-d657-293cb4fd50a8",
        "colab": {
          "base_uri": "https://localhost:8080/",
          "height": 220
        }
      },
      "id": "vC3RMVA8y_CJ",
      "execution_count": 29,
      "outputs": [
        {
          "output_type": "error",
          "ename": "IndexError",
          "evalue": "list index out of range",
          "traceback": [
            "\u001b[0;31m---------------------------------------------------------------------------\u001b[0m",
            "\u001b[0;31mIndexError\u001b[0m                                Traceback (most recent call last)",
            "\u001b[0;32m/tmp/ipython-input-29-855355108.py\u001b[0m in \u001b[0;36m<cell line: 0>\u001b[0;34m()\u001b[0m\n\u001b[1;32m      1\u001b[0m \u001b[0;32mfor\u001b[0m  \u001b[0midx\u001b[0m\u001b[0;34m,\u001b[0m \u001b[0mrow\u001b[0m \u001b[0;32min\u001b[0m \u001b[0menumerate\u001b[0m\u001b[0;34m(\u001b[0m\u001b[0midx_sort\u001b[0m\u001b[0;34m)\u001b[0m \u001b[0;34m:\u001b[0m\u001b[0;34m\u001b[0m\u001b[0;34m\u001b[0m\u001b[0m\n\u001b[0;32m----> 2\u001b[0;31m     \u001b[0mname_query\u001b[0m \u001b[0;34m=\u001b[0m \u001b[0mnames\u001b[0m\u001b[0;34m[\u001b[0m\u001b[0midx\u001b[0m\u001b[0;34m]\u001b[0m\u001b[0;34m\u001b[0m\u001b[0;34m\u001b[0m\u001b[0m\n\u001b[0m\u001b[1;32m      3\u001b[0m     \u001b[0mprint\u001b[0m\u001b[0;34m(\u001b[0m\u001b[0;34m'Query Name = {}'\u001b[0m\u001b[0;34m.\u001b[0m\u001b[0mformat\u001b[0m\u001b[0;34m(\u001b[0m\u001b[0mname_query\u001b[0m\u001b[0;34m)\u001b[0m\u001b[0;34m)\u001b[0m\u001b[0;34m\u001b[0m\u001b[0;34m\u001b[0m\u001b[0m\n\u001b[1;32m      4\u001b[0m     \u001b[0mresult\u001b[0m \u001b[0;34m=\u001b[0m \u001b[0;34m[\u001b[0m\u001b[0;34m(\u001b[0m\u001b[0mnames\u001b[0m\u001b[0;34m[\u001b[0m\u001b[0mi\u001b[0m\u001b[0;34m]\u001b[0m\u001b[0;34m,\u001b[0m \u001b[0msim\u001b[0m\u001b[0;34m[\u001b[0m\u001b[0midx\u001b[0m\u001b[0;34m,\u001b[0m \u001b[0mi\u001b[0m\u001b[0;34m]\u001b[0m\u001b[0;34m)\u001b[0m \u001b[0;32mfor\u001b[0m \u001b[0mi\u001b[0m \u001b[0;32min\u001b[0m \u001b[0mrow\u001b[0m\u001b[0;34m[\u001b[0m\u001b[0;36m1\u001b[0m\u001b[0;34m:\u001b[0m\u001b[0;36m5\u001b[0m\u001b[0;34m]\u001b[0m \u001b[0;34m]\u001b[0m\u001b[0;34m\u001b[0m\u001b[0;34m\u001b[0m\u001b[0m\n\u001b[1;32m      5\u001b[0m     \u001b[0mprint\u001b[0m\u001b[0;34m(\u001b[0m\u001b[0mresult\u001b[0m\u001b[0;34m)\u001b[0m\u001b[0;34m\u001b[0m\u001b[0;34m\u001b[0m\u001b[0m\n",
            "\u001b[0;31mIndexError\u001b[0m: list index out of range"
          ]
        }
      ]
    }
  ],
  "metadata": {
    "kernelspec": {
      "display_name": "ml",
      "language": "python",
      "name": "python3"
    },
    "language_info": {
      "codemirror_mode": {
        "name": "ipython",
        "version": 3
      },
      "file_extension": ".py",
      "mimetype": "text/x-python",
      "name": "python",
      "nbconvert_exporter": "python",
      "pygments_lexer": "ipython3",
      "version": "3.9.21"
    },
    "colab": {
      "provenance": []
    }
  },
  "nbformat": 4,
  "nbformat_minor": 5
}