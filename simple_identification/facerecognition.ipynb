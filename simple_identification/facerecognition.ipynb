{
  "cells": [
    {
      "cell_type": "markdown",
      "metadata": {
        "id": "view-in-github",
        "colab_type": "text"
      },
      "source": [
        "<a href=\"https://colab.research.google.com/github/jmsaavedrar/insightface/blob/main/simple_identification/facerecognition.ipynb\" target=\"_parent\"><img src=\"https://colab.research.google.com/assets/colab-badge.svg\" alt=\"Open In Colab\"/></a>"
      ]
    },
    {
      "cell_type": "code",
      "execution_count": null,
      "id": "5010ef70",
      "metadata": {
        "id": "5010ef70"
      },
      "outputs": [],
      "source": [
        "#importamos módulos básicos\n",
        "import os\n",
        "# PIL de pillow es un buen módulo para procesar imágenes\n",
        "import PIL\n",
        "import PIL.Image\n",
        "import numpy as np"
      ]
    },
    {
      "cell_type": "code",
      "source": [
        "# instalamos módulos para procesar rostros\n",
        "!pip install -U insightface\n",
        "!pip install onnxruntime\n",
        "from insightface.app import FaceAnalysis"
      ],
      "metadata": {
        "colab": {
          "base_uri": "https://localhost:8080/"
        },
        "id": "xRIoWjUzlVX4",
        "outputId": "d44ed9cc-37fa-45b1-8785-77f2b5407e56"
      },
      "id": "xRIoWjUzlVX4",
      "execution_count": null,
      "outputs": [
        {
          "output_type": "stream",
          "name": "stdout",
          "text": [
            "Collecting insightface\n",
            "  Downloading insightface-0.7.3.tar.gz (439 kB)\n",
            "\u001b[?25l     \u001b[90m━━━━━━━━━━━━━━━━━━━━━━━━━━━━━━━━━━━━━━━━\u001b[0m \u001b[32m0.0/439.5 kB\u001b[0m \u001b[31m?\u001b[0m eta \u001b[36m-:--:--\u001b[0m\r\u001b[2K     \u001b[91m━━━━━━━━━━━━\u001b[0m\u001b[91m╸\u001b[0m\u001b[90m━━━━━━━━━━━━━━━━━━━━━━━━━━\u001b[0m \u001b[32m143.4/439.5 kB\u001b[0m \u001b[31m4.2 MB/s\u001b[0m eta \u001b[36m0:00:01\u001b[0m\r\u001b[2K     \u001b[91m━━━━━━━━━━━━━━━━━━━━━━━━━━━━━━━━━━━━━━\u001b[0m\u001b[90m╺\u001b[0m \u001b[32m430.1/439.5 kB\u001b[0m \u001b[31m6.5 MB/s\u001b[0m eta \u001b[36m0:00:01\u001b[0m\r\u001b[2K     \u001b[90m━━━━━━━━━━━━━━━━━━━━━━━━━━━━━━━━━━━━━━━\u001b[0m \u001b[32m439.5/439.5 kB\u001b[0m \u001b[31m4.5 MB/s\u001b[0m eta \u001b[36m0:00:00\u001b[0m\n",
            "\u001b[?25h  Installing build dependencies ... \u001b[?25l\u001b[?25hdone\n",
            "  Getting requirements to build wheel ... \u001b[?25l\u001b[?25hdone\n",
            "  Preparing metadata (pyproject.toml) ... \u001b[?25l\u001b[?25hdone\n",
            "Requirement already satisfied: numpy in /usr/local/lib/python3.11/dist-packages (from insightface) (2.0.2)\n",
            "Collecting onnx (from insightface)\n",
            "  Downloading onnx-1.18.0-cp311-cp311-manylinux_2_17_x86_64.manylinux2014_x86_64.whl.metadata (6.9 kB)\n",
            "Requirement already satisfied: tqdm in /usr/local/lib/python3.11/dist-packages (from insightface) (4.67.1)\n",
            "Requirement already satisfied: requests in /usr/local/lib/python3.11/dist-packages (from insightface) (2.32.3)\n",
            "Requirement already satisfied: matplotlib in /usr/local/lib/python3.11/dist-packages (from insightface) (3.10.0)\n",
            "Requirement already satisfied: Pillow in /usr/local/lib/python3.11/dist-packages (from insightface) (11.3.0)\n",
            "Requirement already satisfied: scipy in /usr/local/lib/python3.11/dist-packages (from insightface) (1.16.0)\n",
            "Requirement already satisfied: scikit-learn in /usr/local/lib/python3.11/dist-packages (from insightface) (1.6.1)\n",
            "Requirement already satisfied: scikit-image in /usr/local/lib/python3.11/dist-packages (from insightface) (0.25.2)\n",
            "Requirement already satisfied: easydict in /usr/local/lib/python3.11/dist-packages (from insightface) (1.13)\n",
            "Requirement already satisfied: cython in /usr/local/lib/python3.11/dist-packages (from insightface) (3.0.12)\n",
            "Requirement already satisfied: albumentations in /usr/local/lib/python3.11/dist-packages (from insightface) (2.0.8)\n",
            "Requirement already satisfied: prettytable in /usr/local/lib/python3.11/dist-packages (from insightface) (3.16.0)\n",
            "Requirement already satisfied: PyYAML in /usr/local/lib/python3.11/dist-packages (from albumentations->insightface) (6.0.2)\n",
            "Requirement already satisfied: pydantic>=2.9.2 in /usr/local/lib/python3.11/dist-packages (from albumentations->insightface) (2.11.7)\n",
            "Requirement already satisfied: albucore==0.0.24 in /usr/local/lib/python3.11/dist-packages (from albumentations->insightface) (0.0.24)\n",
            "Requirement already satisfied: opencv-python-headless>=4.9.0.80 in /usr/local/lib/python3.11/dist-packages (from albumentations->insightface) (4.12.0.88)\n",
            "Requirement already satisfied: stringzilla>=3.10.4 in /usr/local/lib/python3.11/dist-packages (from albucore==0.0.24->albumentations->insightface) (3.12.5)\n",
            "Requirement already satisfied: simsimd>=5.9.2 in /usr/local/lib/python3.11/dist-packages (from albucore==0.0.24->albumentations->insightface) (6.5.0)\n",
            "Requirement already satisfied: contourpy>=1.0.1 in /usr/local/lib/python3.11/dist-packages (from matplotlib->insightface) (1.3.2)\n",
            "Requirement already satisfied: cycler>=0.10 in /usr/local/lib/python3.11/dist-packages (from matplotlib->insightface) (0.12.1)\n",
            "Requirement already satisfied: fonttools>=4.22.0 in /usr/local/lib/python3.11/dist-packages (from matplotlib->insightface) (4.59.0)\n",
            "Requirement already satisfied: kiwisolver>=1.3.1 in /usr/local/lib/python3.11/dist-packages (from matplotlib->insightface) (1.4.8)\n",
            "Requirement already satisfied: packaging>=20.0 in /usr/local/lib/python3.11/dist-packages (from matplotlib->insightface) (25.0)\n",
            "Requirement already satisfied: pyparsing>=2.3.1 in /usr/local/lib/python3.11/dist-packages (from matplotlib->insightface) (3.2.3)\n",
            "Requirement already satisfied: python-dateutil>=2.7 in /usr/local/lib/python3.11/dist-packages (from matplotlib->insightface) (2.9.0.post0)\n",
            "Requirement already satisfied: protobuf>=4.25.1 in /usr/local/lib/python3.11/dist-packages (from onnx->insightface) (5.29.5)\n",
            "Requirement already satisfied: typing_extensions>=4.7.1 in /usr/local/lib/python3.11/dist-packages (from onnx->insightface) (4.14.1)\n",
            "Requirement already satisfied: wcwidth in /usr/local/lib/python3.11/dist-packages (from prettytable->insightface) (0.2.13)\n",
            "Requirement already satisfied: charset-normalizer<4,>=2 in /usr/local/lib/python3.11/dist-packages (from requests->insightface) (3.4.2)\n",
            "Requirement already satisfied: idna<4,>=2.5 in /usr/local/lib/python3.11/dist-packages (from requests->insightface) (3.10)\n",
            "Requirement already satisfied: urllib3<3,>=1.21.1 in /usr/local/lib/python3.11/dist-packages (from requests->insightface) (2.5.0)\n",
            "Requirement already satisfied: certifi>=2017.4.17 in /usr/local/lib/python3.11/dist-packages (from requests->insightface) (2025.7.14)\n",
            "Requirement already satisfied: networkx>=3.0 in /usr/local/lib/python3.11/dist-packages (from scikit-image->insightface) (3.5)\n",
            "Requirement already satisfied: imageio!=2.35.0,>=2.33 in /usr/local/lib/python3.11/dist-packages (from scikit-image->insightface) (2.37.0)\n",
            "Requirement already satisfied: tifffile>=2022.8.12 in /usr/local/lib/python3.11/dist-packages (from scikit-image->insightface) (2025.6.11)\n",
            "Requirement already satisfied: lazy-loader>=0.4 in /usr/local/lib/python3.11/dist-packages (from scikit-image->insightface) (0.4)\n",
            "Requirement already satisfied: joblib>=1.2.0 in /usr/local/lib/python3.11/dist-packages (from scikit-learn->insightface) (1.5.1)\n",
            "Requirement already satisfied: threadpoolctl>=3.1.0 in /usr/local/lib/python3.11/dist-packages (from scikit-learn->insightface) (3.6.0)\n",
            "Requirement already satisfied: annotated-types>=0.6.0 in /usr/local/lib/python3.11/dist-packages (from pydantic>=2.9.2->albumentations->insightface) (0.7.0)\n",
            "Requirement already satisfied: pydantic-core==2.33.2 in /usr/local/lib/python3.11/dist-packages (from pydantic>=2.9.2->albumentations->insightface) (2.33.2)\n",
            "Requirement already satisfied: typing-inspection>=0.4.0 in /usr/local/lib/python3.11/dist-packages (from pydantic>=2.9.2->albumentations->insightface) (0.4.1)\n",
            "Requirement already satisfied: six>=1.5 in /usr/local/lib/python3.11/dist-packages (from python-dateutil>=2.7->matplotlib->insightface) (1.17.0)\n",
            "Downloading onnx-1.18.0-cp311-cp311-manylinux_2_17_x86_64.manylinux2014_x86_64.whl (17.6 MB)\n",
            "\u001b[2K   \u001b[90m━━━━━━━━━━━━━━━━━━━━━━━━━━━━━━━━━━━━━━━━\u001b[0m \u001b[32m17.6/17.6 MB\u001b[0m \u001b[31m56.6 MB/s\u001b[0m eta \u001b[36m0:00:00\u001b[0m\n",
            "\u001b[?25hBuilding wheels for collected packages: insightface\n",
            "  Building wheel for insightface (pyproject.toml) ... \u001b[?25l\u001b[?25hdone\n",
            "  Created wheel for insightface: filename=insightface-0.7.3-cp311-cp311-linux_x86_64.whl size=1060438 sha256=7bcc4595d78ba59d25163d7db5f1097428d0606122c17a0fd4971e37f473d692\n",
            "  Stored in directory: /root/.cache/pip/wheels/27/d8/22/f52d858d16cd06e7b2e6aad34a1777dcfaf000be833bbf8146\n",
            "Successfully built insightface\n",
            "Installing collected packages: onnx, insightface\n",
            "Successfully installed insightface-0.7.3 onnx-1.18.0\n",
            "Collecting onnxruntime\n",
            "  Downloading onnxruntime-1.22.1-cp311-cp311-manylinux_2_27_x86_64.manylinux_2_28_x86_64.whl.metadata (4.6 kB)\n",
            "Collecting coloredlogs (from onnxruntime)\n",
            "  Downloading coloredlogs-15.0.1-py2.py3-none-any.whl.metadata (12 kB)\n",
            "Requirement already satisfied: flatbuffers in /usr/local/lib/python3.11/dist-packages (from onnxruntime) (25.2.10)\n",
            "Requirement already satisfied: numpy>=1.21.6 in /usr/local/lib/python3.11/dist-packages (from onnxruntime) (2.0.2)\n",
            "Requirement already satisfied: packaging in /usr/local/lib/python3.11/dist-packages (from onnxruntime) (25.0)\n",
            "Requirement already satisfied: protobuf in /usr/local/lib/python3.11/dist-packages (from onnxruntime) (5.29.5)\n",
            "Requirement already satisfied: sympy in /usr/local/lib/python3.11/dist-packages (from onnxruntime) (1.13.1)\n",
            "Collecting humanfriendly>=9.1 (from coloredlogs->onnxruntime)\n",
            "  Downloading humanfriendly-10.0-py2.py3-none-any.whl.metadata (9.2 kB)\n",
            "Requirement already satisfied: mpmath<1.4,>=1.1.0 in /usr/local/lib/python3.11/dist-packages (from sympy->onnxruntime) (1.3.0)\n",
            "Downloading onnxruntime-1.22.1-cp311-cp311-manylinux_2_27_x86_64.manylinux_2_28_x86_64.whl (16.5 MB)\n",
            "\u001b[2K   \u001b[90m━━━━━━━━━━━━━━━━━━━━━━━━━━━━━━━━━━━━━━━━\u001b[0m \u001b[32m16.5/16.5 MB\u001b[0m \u001b[31m99.4 MB/s\u001b[0m eta \u001b[36m0:00:00\u001b[0m\n",
            "\u001b[?25hDownloading coloredlogs-15.0.1-py2.py3-none-any.whl (46 kB)\n",
            "\u001b[2K   \u001b[90m━━━━━━━━━━━━━━━━━━━━━━━━━━━━━━━━━━━━━━━━\u001b[0m \u001b[32m46.0/46.0 kB\u001b[0m \u001b[31m4.4 MB/s\u001b[0m eta \u001b[36m0:00:00\u001b[0m\n",
            "\u001b[?25hDownloading humanfriendly-10.0-py2.py3-none-any.whl (86 kB)\n",
            "\u001b[2K   \u001b[90m━━━━━━━━━━━━━━━━━━━━━━━━━━━━━━━━━━━━━━━━\u001b[0m \u001b[32m86.8/86.8 kB\u001b[0m \u001b[31m8.7 MB/s\u001b[0m eta \u001b[36m0:00:00\u001b[0m\n",
            "\u001b[?25hInstalling collected packages: humanfriendly, coloredlogs, onnxruntime\n",
            "Successfully installed coloredlogs-15.0.1 humanfriendly-10.0 onnxruntime-1.22.1\n"
          ]
        }
      ]
    },
    {
      "cell_type": "code",
      "execution_count": null,
      "id": "864afe6f",
      "metadata": {
        "colab": {
          "base_uri": "https://localhost:8080/"
        },
        "id": "864afe6f",
        "outputId": "18bb9a62-a640-4095-d47b-7c6e84cad20b"
      },
      "outputs": [
        {
          "output_type": "stream",
          "name": "stdout",
          "text": [
            "--2025-07-24 00:55:58--  https://www.dropbox.com/scl/fi/b9y03enpi01zfb36ckyir/personas.zip?rlkey=19wypqmaps5b5n28bz3gi7xg7&st=s6p3564g&dl=0\n",
            "Resolving www.dropbox.com (www.dropbox.com)... 162.125.4.18, 2620:100:601c:18::a27d:612\n",
            "Connecting to www.dropbox.com (www.dropbox.com)|162.125.4.18|:443... connected.\n",
            "HTTP request sent, awaiting response... 302 Found\n",
            "Location: https://uc74e0cb917352a000ea9a0f683b.dl.dropboxusercontent.com/cd/0/inline/CuGGJIfpIGO_T-Yz-ELXW35ThGpBCkcMr7jxD5obG40l6axLioGryOm6LqcF9In1FoR_lzs0dpn65Ewi7w7_0-Q44ZlMAF49W0Ga4QumSJEXGsLvlA8S8_Y_gghqwWM4hTWwqx1O7zWf7f7F1nVif1ph/file# [following]\n",
            "--2025-07-24 00:55:59--  https://uc74e0cb917352a000ea9a0f683b.dl.dropboxusercontent.com/cd/0/inline/CuGGJIfpIGO_T-Yz-ELXW35ThGpBCkcMr7jxD5obG40l6axLioGryOm6LqcF9In1FoR_lzs0dpn65Ewi7w7_0-Q44ZlMAF49W0Ga4QumSJEXGsLvlA8S8_Y_gghqwWM4hTWwqx1O7zWf7f7F1nVif1ph/file\n",
            "Resolving uc74e0cb917352a000ea9a0f683b.dl.dropboxusercontent.com (uc74e0cb917352a000ea9a0f683b.dl.dropboxusercontent.com)... 162.125.13.15, 2620:100:601c:15::a27d:60f\n",
            "Connecting to uc74e0cb917352a000ea9a0f683b.dl.dropboxusercontent.com (uc74e0cb917352a000ea9a0f683b.dl.dropboxusercontent.com)|162.125.13.15|:443... connected.\n",
            "HTTP request sent, awaiting response... 302 Found\n",
            "Location: /cd/0/inline2/CuHQ7Bg4XDOT9tE9GjdOCGtfGIROpmOHo6BfkC4cC1_PW9ocxqIO2E-1CsztCj65n4WSR03Zhi94Fj57uR2bqcklXy-hrIBW_4KjAMk7CaZfXv6zOaDXwQtBZ3O_53uED4-p1eqQly3PiZLljkomiMr_sECm6r8s5eKHSGvYuHedcxsa00-qaBj6frnUUkvfgUZw6axt1yGfJQc0krrRdkoL12Q3yvq17sQByXqjm-qXVhtaDHARD5N9WmOFw2Teif6EJff5SIaWjxZ1NPs3S0eu_iWbpOG5GyanoXpV87qvyJ5dLvP2EgbQ0uMAx_UbK1mNV43Nin3PQGOMX9dNSO0iHp_gfCWI3OTmvZQ2JPHQGyDQwLPtKn0zsugJGtGWRiQ/file [following]\n",
            "--2025-07-24 00:55:59--  https://uc74e0cb917352a000ea9a0f683b.dl.dropboxusercontent.com/cd/0/inline2/CuHQ7Bg4XDOT9tE9GjdOCGtfGIROpmOHo6BfkC4cC1_PW9ocxqIO2E-1CsztCj65n4WSR03Zhi94Fj57uR2bqcklXy-hrIBW_4KjAMk7CaZfXv6zOaDXwQtBZ3O_53uED4-p1eqQly3PiZLljkomiMr_sECm6r8s5eKHSGvYuHedcxsa00-qaBj6frnUUkvfgUZw6axt1yGfJQc0krrRdkoL12Q3yvq17sQByXqjm-qXVhtaDHARD5N9WmOFw2Teif6EJff5SIaWjxZ1NPs3S0eu_iWbpOG5GyanoXpV87qvyJ5dLvP2EgbQ0uMAx_UbK1mNV43Nin3PQGOMX9dNSO0iHp_gfCWI3OTmvZQ2JPHQGyDQwLPtKn0zsugJGtGWRiQ/file\n",
            "Reusing existing connection to uc74e0cb917352a000ea9a0f683b.dl.dropboxusercontent.com:443.\n",
            "HTTP request sent, awaiting response... 200 OK\n",
            "Length: 1315412 (1.3M) [application/zip]\n",
            "Saving to: ‘personas.zip’\n",
            "\n",
            "personas.zip        100%[===================>]   1.25M  --.-KB/s    in 0.1s    \n",
            "\n",
            "2025-07-24 00:55:59 (9.98 MB/s) - ‘personas.zip’ saved [1315412/1315412]\n",
            "\n"
          ]
        }
      ],
      "source": [
        "# descargar un pequeño dataset de prueba\n",
        "!wget \"https://www.dropbox.com/scl/fi/b9y03enpi01zfb36ckyir/personas.zip?rlkey=19wypqmaps5b5n28bz3gi7xg7&st=s6p3564g&dl=0\" -O personas.zip"
      ]
    },
    {
      "cell_type": "code",
      "source": [
        "# descomprimimos el dataset con 7 personalidades\n",
        "!unzip personas.zip"
      ],
      "metadata": {
        "colab": {
          "base_uri": "https://localhost:8080/"
        },
        "id": "7H_BhHsRmkjj",
        "outputId": "9ef5a7ca-e64b-4d09-f520-6b81232b764a"
      },
      "id": "7H_BhHsRmkjj",
      "execution_count": null,
      "outputs": [
        {
          "output_type": "stream",
          "name": "stdout",
          "text": [
            "Archive:  personas.zip\n",
            "   creating: personas/\n",
            "   creating: personas/barack/\n",
            "  inflating: personas/barack/face_2.jpeg  \n",
            "  inflating: personas/barack/barack.jpeg  \n",
            "  inflating: personas/barack/barack_2.jpeg  \n",
            "   creating: personas/dicaprio/\n",
            "  inflating: personas/dicaprio/dicaprio_2.png  \n",
            "  inflating: personas/dicaprio/dicaprio.jpg  \n",
            "   creating: personas/pancho/\n",
            "  inflating: personas/pancho/pancho.jpeg  \n",
            "  inflating: personas/pancho/pancho2.jpeg  \n",
            "   creating: personas/thalia/\n",
            "  inflating: personas/thalia/thalia2.jpg  \n",
            "  inflating: personas/thalia/thalia1.jpg  \n",
            "   creating: personas/paulina/\n",
            "  inflating: personas/paulina/paulina2.png  \n",
            "  inflating: personas/paulina/paulina1.jpeg  \n",
            "  inflating: personas/faces.txt      \n",
            "   creating: personas/mario/\n",
            "  inflating: personas/mario/mario1.png  \n",
            "  inflating: personas/mario/mario2.png  \n",
            "   creating: personas/michelle/\n",
            "  inflating: personas/michelle/michelle_obama_2.jpg  \n",
            "  inflating: personas/michelle/michelle_obama_1.jpeg  \n"
          ]
        }
      ]
    },
    {
      "cell_type": "code",
      "execution_count": null,
      "id": "d4de11e6",
      "metadata": {
        "colab": {
          "base_uri": "https://localhost:8080/"
        },
        "id": "d4de11e6",
        "outputId": "a05393ae-83dc-4992-810e-236f4d8491ce"
      },
      "outputs": [
        {
          "output_type": "stream",
          "name": "stdout",
          "text": [
            "[{'path': '/content/personas/paulina/paulina2.png', 'name': 'paulina'}, {'path': '/content/personas/paulina/paulina1.jpeg', 'name': 'paulina'}, {'path': '/content/personas/dicaprio/dicaprio_2.png', 'name': 'dicaprio'}, {'path': '/content/personas/dicaprio/dicaprio.jpg', 'name': 'dicaprio'}, {'path': '/content/personas/barack/barack.jpeg', 'name': 'barack'}, {'path': '/content/personas/barack/barack_2.jpeg', 'name': 'barack'}, {'path': '/content/personas/barack/face_2.jpeg', 'name': 'barack'}, {'path': '/content/personas/pancho/pancho.jpeg', 'name': 'pancho'}, {'path': '/content/personas/pancho/pancho2.jpeg', 'name': 'pancho'}, {'path': '/content/personas/thalia/thalia1.jpg', 'name': 'thalia'}, {'path': '/content/personas/thalia/thalia2.jpg', 'name': 'thalia'}, {'path': '/content/personas/mario/mario1.png', 'name': 'mario'}, {'path': '/content/personas/mario/mario2.png', 'name': 'mario'}, {'path': '/content/personas/michelle/michelle_obama_1.jpeg', 'name': 'michelle'}, {'path': '/content/personas/michelle/michelle_obama_2.jpg', 'name': 'michelle'}]\n"
          ]
        }
      ],
      "source": [
        "datapath = '/content/personas'\n",
        "ffaces = os.path.join(datapath, 'faces.txt')\n",
        "fdata = []\n",
        "with open(ffaces) as f:\n",
        "  for line in f :\n",
        "    iname, icl = line.split()\n",
        "    iname = os.path.join(datapath, iname)\n",
        "    fdata.append({'path': iname, 'name': icl})\n",
        "print(fdata)"
      ]
    },
    {
      "cell_type": "code",
      "source": [
        "# inicializamos el modelo de rostros\n",
        "app = FaceAnalysis(name='buffalo_l', providers=['CPUExecutionProvider'])  # Use 'CUDAExecutionProvider' for GPU\n",
        "app.prepare(ctx_id=0)  # ctx_id=-1 for CPU, 0 for GPU\n",
        "\n",
        "def get_face_embedding(image_path):\n",
        "    \"\"\"Extract face embedding from an image\"\"\"\n",
        "    img = PIL.Image.open(image_path)\n",
        "    if img is None:\n",
        "        raise ValueError(f\"Could not read image: {image_path}\")\n",
        "    img = np.array(img)\n",
        "    if img.shape[2] == 4 :\n",
        "      img = img[:,:,:-1]\n",
        "    faces = app.get(img)\n",
        "    if len(faces) < 1:\n",
        "        raise ValueError(\"No faces detected in the image\")\n",
        "    if len(faces) > 1:\n",
        "        print(\"Warning: Multiple faces detected. Using first detected face\")\n",
        "    # retorna el primer rostro junto con su embedding\n",
        "    return faces[0].embedding"
      ],
      "metadata": {
        "id": "qAvj_YtWpeAi",
        "outputId": "ff67b399-93c4-4fea-942e-4c1417a02adc",
        "colab": {
          "base_uri": "https://localhost:8080/"
        }
      },
      "id": "qAvj_YtWpeAi",
      "execution_count": null,
      "outputs": [
        {
          "output_type": "stream",
          "name": "stdout",
          "text": [
            "Applied providers: ['CPUExecutionProvider'], with options: {'CPUExecutionProvider': {}}\n",
            "find model: /root/.insightface/models/buffalo_l/1k3d68.onnx landmark_3d_68 ['None', 3, 192, 192] 0.0 1.0\n",
            "Applied providers: ['CPUExecutionProvider'], with options: {'CPUExecutionProvider': {}}\n",
            "find model: /root/.insightface/models/buffalo_l/2d106det.onnx landmark_2d_106 ['None', 3, 192, 192] 0.0 1.0\n",
            "Applied providers: ['CPUExecutionProvider'], with options: {'CPUExecutionProvider': {}}\n",
            "find model: /root/.insightface/models/buffalo_l/det_10g.onnx detection [1, 3, '?', '?'] 127.5 128.0\n",
            "Applied providers: ['CPUExecutionProvider'], with options: {'CPUExecutionProvider': {}}\n",
            "find model: /root/.insightface/models/buffalo_l/genderage.onnx genderage ['None', 3, 96, 96] 0.0 1.0\n",
            "Applied providers: ['CPUExecutionProvider'], with options: {'CPUExecutionProvider': {}}\n",
            "find model: /root/.insightface/models/buffalo_l/w600k_r50.onnx recognition ['None', 3, 112, 112] 127.5 127.5\n",
            "set det-size: (640, 640)\n"
          ]
        }
      ]
    },
    {
      "cell_type": "code",
      "execution_count": null,
      "id": "76abb174",
      "metadata": {
        "id": "76abb174"
      },
      "outputs": [],
      "source": [
        "# recorremos la lista de rostros\n",
        "embs = []\n",
        "names = []\n",
        "compute = True\n",
        "for person in fdata:\n",
        "    emb = get_face_embedding(person['path'])\n",
        "    person['emb'] = emb"
      ]
    },
    {
      "cell_type": "code",
      "source": [
        "# formar una matriz de embeddings\n",
        "n = len(fdata)\n",
        "dim = len(fdata[0]['emb'])\n",
        "embs = np.zeros((n, dim), dtype = np.float32)\n",
        "for i, person in enumerate(fdata) :\n",
        "  embs[i, :] = person['emb']"
      ],
      "metadata": {
        "id": "_nnhr4izBSZv"
      },
      "id": "_nnhr4izBSZv",
      "execution_count": null,
      "outputs": []
    },
    {
      "cell_type": "code",
      "source": [
        "print(embs.shape)"
      ],
      "metadata": {
        "id": "fVH2qqPpvJFQ",
        "outputId": "b1f963fa-e549-46da-c370-c95d0887afcf",
        "colab": {
          "base_uri": "https://localhost:8080/"
        }
      },
      "id": "fVH2qqPpvJFQ",
      "execution_count": null,
      "outputs": [
        {
          "output_type": "stream",
          "name": "stdout",
          "text": [
            "(15, 512)\n"
          ]
        }
      ]
    },
    {
      "cell_type": "code",
      "source": [
        "# similarity search -- simplmente aplicamos producto punto todos contra todos\n",
        "embs_norm = embs / np.linalg.norm(embs, ord = 2, axis = 1,  keepdims = True)\n",
        "sim = embs_norm @ np.transpose(embs_norm)\n",
        "print(sim)\n"
      ],
      "metadata": {
        "id": "3ycGg_QAt1eQ",
        "outputId": "a2e8bf05-2cd0-4321-dd9e-823745be0e6d",
        "colab": {
          "base_uri": "https://localhost:8080/"
        }
      },
      "id": "3ycGg_QAt1eQ",
      "execution_count": null,
      "outputs": [
        {
          "output_type": "stream",
          "name": "stdout",
          "text": [
            "[[ 1.0000000e+00  6.2091148e-01  1.4419974e-01  1.1881724e-01\n",
            "  -4.3928705e-02 -4.2916708e-02 -4.6245165e-02  1.0602462e-01\n",
            "   6.0486905e-02 -9.2999907e-03  1.1417773e-01  4.8244365e-02\n",
            "   1.9483801e-02  1.1305122e-01  1.2899187e-01]\n",
            " [ 6.2091148e-01  1.0000000e+00  1.5393433e-01  9.2735447e-02\n",
            "  -8.4229112e-02 -4.6397049e-02 -1.9339167e-02  1.1954491e-01\n",
            "   7.1693614e-02  2.9089380e-02  1.3622121e-02  2.8045475e-04\n",
            "  -1.1759914e-02  3.0222097e-03 -4.5506060e-03]\n",
            " [ 1.4419974e-01  1.5393433e-01  1.0000001e+00  8.2802188e-01\n",
            "   8.7306745e-02  6.2302578e-02  1.0194063e-01  1.7433237e-02\n",
            "  -4.6713978e-02 -5.9806012e-02 -7.4942425e-02  4.4832777e-02\n",
            "   1.9818639e-02  1.1826560e-01  1.4005813e-01]\n",
            " [ 1.1881724e-01  9.2735447e-02  8.2802188e-01  1.0000000e+00\n",
            "   1.2986918e-01  3.9691798e-02  1.3073254e-01  1.6856942e-02\n",
            "  -5.3042419e-02 -8.2204491e-02 -7.5398922e-02  3.7840158e-02\n",
            "   6.8672374e-04  3.6277410e-02  6.2857181e-02]\n",
            " [-4.3928705e-02 -8.4229112e-02  8.7306745e-02  1.2986918e-01\n",
            "   1.0000004e+00  6.9845605e-01  7.0025647e-01  7.2126254e-02\n",
            "   2.5947656e-02  6.8616010e-02  5.6964807e-02  1.3853154e-02\n",
            "   2.5742184e-03 -3.6337536e-02 -4.5242578e-02]\n",
            " [-4.2916708e-02 -4.6397049e-02  6.2302578e-02  3.9691798e-02\n",
            "   6.9845605e-01  1.0000000e+00  7.0082259e-01 -9.2418697e-03\n",
            "  -4.1496724e-02  3.5090063e-02  2.1875104e-02 -4.9792416e-04\n",
            "  -2.2686809e-02  3.6191396e-02  4.4657357e-02]\n",
            " [-4.6245165e-02 -1.9339167e-02  1.0194063e-01  1.3073254e-01\n",
            "   7.0025647e-01  7.0082259e-01  9.9999970e-01 -8.9946333e-03\n",
            "  -5.6045618e-02  5.5006433e-02  4.0141501e-02  4.2643748e-02\n",
            "   3.4598880e-02  7.0497714e-02  3.1981129e-02]\n",
            " [ 1.0602462e-01  1.1954491e-01  1.7433237e-02  1.6856942e-02\n",
            "   7.2126254e-02 -9.2418697e-03 -8.9946333e-03  9.9999982e-01\n",
            "   6.1658680e-01 -2.9283497e-03 -7.1869805e-02 -1.4723601e-02\n",
            "  -9.5245242e-02  1.8306985e-02 -6.3665703e-02]\n",
            " [ 6.0486905e-02  7.1693614e-02 -4.6713978e-02 -5.3042419e-02\n",
            "   2.5947656e-02 -4.1496724e-02 -5.6045618e-02  6.1658680e-01\n",
            "   1.0000000e+00  3.5463385e-03 -1.6800009e-02 -3.0963620e-02\n",
            "  -1.2737846e-01 -2.9056605e-02 -1.4083495e-02]\n",
            " [-9.2999907e-03  2.9089380e-02 -5.9806012e-02 -8.2204491e-02\n",
            "   6.8616010e-02  3.5090063e-02  5.5006433e-02 -2.9283497e-03\n",
            "   3.5463385e-03  9.9999988e-01  6.6602534e-01 -3.5276547e-02\n",
            "  -3.6961790e-02  8.9212030e-02  1.3882148e-01]\n",
            " [ 1.1417773e-01  1.3622121e-02 -7.4942425e-02 -7.5398922e-02\n",
            "   5.6964807e-02  2.1875104e-02  4.0141501e-02 -7.1869805e-02\n",
            "  -1.6800009e-02  6.6602534e-01  9.9999976e-01 -2.0995595e-02\n",
            "  -7.1189784e-02  3.8212083e-02  9.4188482e-02]\n",
            " [ 4.8244365e-02  2.8045475e-04  4.4832777e-02  3.7840158e-02\n",
            "   1.3853154e-02 -4.9792416e-04  4.2643748e-02 -1.4723601e-02\n",
            "  -3.0963620e-02 -3.5276547e-02 -2.0995595e-02  9.9999976e-01\n",
            "   7.6309067e-01 -1.4981819e-02 -9.9204168e-02]\n",
            " [ 1.9483801e-02 -1.1759914e-02  1.9818639e-02  6.8672374e-04\n",
            "   2.5742184e-03 -2.2686809e-02  3.4598880e-02 -9.5245242e-02\n",
            "  -1.2737846e-01 -3.6961790e-02 -7.1189784e-02  7.6309067e-01\n",
            "   9.9999976e-01 -5.6274895e-02 -9.9413559e-02]\n",
            " [ 1.1305122e-01  3.0222097e-03  1.1826560e-01  3.6277410e-02\n",
            "  -3.6337536e-02  3.6191396e-02  7.0497714e-02  1.8306985e-02\n",
            "  -2.9056605e-02  8.9212030e-02  3.8212083e-02 -1.4981819e-02\n",
            "  -5.6274895e-02  9.9999970e-01  6.6047931e-01]\n",
            " [ 1.2899187e-01 -4.5506060e-03  1.4005813e-01  6.2857181e-02\n",
            "  -4.5242578e-02  4.4657357e-02  3.1981129e-02 -6.3665703e-02\n",
            "  -1.4083495e-02  1.3882148e-01  9.4188482e-02 -9.9204168e-02\n",
            "  -9.9413559e-02  6.6047931e-01  9.9999988e-01]]\n"
          ]
        }
      ]
    },
    {
      "cell_type": "code",
      "source": [
        "# ordenamos por fila, de mayor a  menor similitud\n",
        "idx_sort =  np.argsort(-sim, axis = 1)\n",
        "print(idx_sort)\n"
      ],
      "metadata": {
        "id": "bVaGH0eLxc6s",
        "outputId": "03d17abd-e3b5-4430-a2bd-a729f235d76b",
        "colab": {
          "base_uri": "https://localhost:8080/"
        }
      },
      "id": "bVaGH0eLxc6s",
      "execution_count": null,
      "outputs": [
        {
          "output_type": "stream",
          "name": "stdout",
          "text": [
            "[[ 0  1  2 14  3 10 13  7  8 11 12  9  5  4  6]\n",
            " [ 1  0  2  7  3  8  9 10 13 11 14 12  6  5  4]\n",
            " [ 2  3  1  0 14 13  6  4  5 11 12  7  8  9 10]\n",
            " [ 3  2  6  4  0  1 14  5 11 13  7 12  8 10  9]\n",
            " [ 4  6  5  3  2  7  9 10  8 11 12 13  0 14  1]\n",
            " [ 5  6  4  2 14  3 13  9 10 11  7 12  8  0  1]\n",
            " [ 6  5  4  3  2 13  9 11 10 12 14  7  1  0  8]\n",
            " [ 7  8  1  0  4 13  2  3  9  6  5 11 14 10 12]\n",
            " [ 8  7  1  0  4  9 14 10 13 11  5  2  3  6 12]\n",
            " [ 9 10 14 13  4  6  5  1  8  7  0 11 12  2  3]\n",
            " [10  9  0 14  4  6 13  5  1  8 11 12  7  2  3]\n",
            " [11 12  0  2  6  3  4  1  5  7 13 10  8  9 14]\n",
            " [12 11  6  2  0  4  3  1  5  9 13 10  7 14  8]\n",
            " [13 14  2  0  9  6 10  3  5  7  1 11  8  4 12]\n",
            " [14 13  2  9  0 10  3  5  6  1  8  4  7 11 12]]\n"
          ]
        }
      ]
    },
    {
      "cell_type": "code",
      "source": [
        "# mostramos los nombres de los más similares para cada imagen\n",
        "for  idx, row in enumerate(idx_sort) :\n",
        "    name_query = fdata[idx]['name']\n",
        "    print('Query Name = {}'.format(name_query))\n",
        "    result = [(fdata[i]['name'], sim[idx, i]) for i in row[1:5] ]\n",
        "    print(result)\n"
      ],
      "metadata": {
        "id": "vC3RMVA8y_CJ",
        "outputId": "f8c1470a-5642-4897-b821-df508de6339d",
        "colab": {
          "base_uri": "https://localhost:8080/"
        }
      },
      "id": "vC3RMVA8y_CJ",
      "execution_count": null,
      "outputs": [
        {
          "output_type": "stream",
          "name": "stdout",
          "text": [
            "Query Name = paulina\n",
            "[('paulina', np.float32(0.6209115)), ('dicaprio', np.float32(0.14419974)), ('michelle', np.float32(0.12899187)), ('dicaprio', np.float32(0.11881724))]\n",
            "Query Name = paulina\n",
            "[('paulina', np.float32(0.6209115)), ('dicaprio', np.float32(0.15393433)), ('pancho', np.float32(0.11954491)), ('dicaprio', np.float32(0.09273545))]\n",
            "Query Name = dicaprio\n",
            "[('dicaprio', np.float32(0.8280219)), ('paulina', np.float32(0.15393433)), ('paulina', np.float32(0.14419974)), ('michelle', np.float32(0.14005813))]\n",
            "Query Name = dicaprio\n",
            "[('dicaprio', np.float32(0.8280219)), ('barack', np.float32(0.13073254)), ('barack', np.float32(0.12986918)), ('paulina', np.float32(0.11881724))]\n",
            "Query Name = barack\n",
            "[('barack', np.float32(0.70025647)), ('barack', np.float32(0.69845605)), ('dicaprio', np.float32(0.12986918)), ('dicaprio', np.float32(0.087306745))]\n",
            "Query Name = barack\n",
            "[('barack', np.float32(0.7008226)), ('barack', np.float32(0.69845605)), ('dicaprio', np.float32(0.06230258)), ('michelle', np.float32(0.044657357))]\n",
            "Query Name = barack\n",
            "[('barack', np.float32(0.7008226)), ('barack', np.float32(0.70025647)), ('dicaprio', np.float32(0.13073254)), ('dicaprio', np.float32(0.10194063))]\n",
            "Query Name = pancho\n",
            "[('pancho', np.float32(0.6165868)), ('paulina', np.float32(0.11954491)), ('paulina', np.float32(0.10602462)), ('barack', np.float32(0.072126254))]\n",
            "Query Name = pancho\n",
            "[('pancho', np.float32(0.6165868)), ('paulina', np.float32(0.071693614)), ('paulina', np.float32(0.060486905)), ('barack', np.float32(0.025947656))]\n",
            "Query Name = thalia\n",
            "[('thalia', np.float32(0.66602534)), ('michelle', np.float32(0.13882148)), ('michelle', np.float32(0.08921203)), ('barack', np.float32(0.06861601))]\n",
            "Query Name = thalia\n",
            "[('thalia', np.float32(0.66602534)), ('paulina', np.float32(0.11417773)), ('michelle', np.float32(0.09418848)), ('barack', np.float32(0.056964807))]\n",
            "Query Name = mario\n",
            "[('mario', np.float32(0.76309067)), ('paulina', np.float32(0.048244365)), ('dicaprio', np.float32(0.044832777)), ('barack', np.float32(0.04264375))]\n",
            "Query Name = mario\n",
            "[('mario', np.float32(0.76309067)), ('barack', np.float32(0.03459888)), ('dicaprio', np.float32(0.01981864)), ('paulina', np.float32(0.019483801))]\n",
            "Query Name = michelle\n",
            "[('michelle', np.float32(0.6604793)), ('dicaprio', np.float32(0.1182656)), ('paulina', np.float32(0.11305122)), ('thalia', np.float32(0.08921203))]\n",
            "Query Name = michelle\n",
            "[('michelle', np.float32(0.6604793)), ('dicaprio', np.float32(0.14005813)), ('thalia', np.float32(0.13882148)), ('paulina', np.float32(0.12899187))]\n"
          ]
        }
      ]
    }
  ],
  "metadata": {
    "kernelspec": {
      "display_name": "ml",
      "language": "python",
      "name": "python3"
    },
    "language_info": {
      "codemirror_mode": {
        "name": "ipython",
        "version": 3
      },
      "file_extension": ".py",
      "mimetype": "text/x-python",
      "name": "python",
      "nbconvert_exporter": "python",
      "pygments_lexer": "ipython3",
      "version": "3.9.21"
    },
    "colab": {
      "provenance": [],
      "include_colab_link": true
    }
  },
  "nbformat": 4,
  "nbformat_minor": 5
}