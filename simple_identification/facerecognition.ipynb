{
 "cells": [
  {
   "cell_type": "code",
   "execution_count": 1,
   "id": "5010ef70",
   "metadata": {},
   "outputs": [],
   "source": [
    "import os\n",
    "import PIL \n",
    "import PIL.Image\n",
    "import numpy as np\n",
    "#!pip install -U insightface\n",
    "#!pip install onnxruntime\n",
    "from insightface.app import FaceAnalysis"
   ]
  },
  {
   "cell_type": "code",
   "execution_count": null,
   "id": "864afe6f",
   "metadata": {},
   "outputs": [],
   "source": [
    "#download from\n",
    "#!wget https://www.dropbox.com/scl/fi/b9y03enpi01zfb36ckyir/personas.zip?rlkey=19wypqmaps5b5n28bz3gi7xg7&st=r52y68rh&dl=0 -O persona.zip"
   ]
  },
  {
   "cell_type": "code",
   "execution_count": 4,
   "id": "d4de11e6",
   "metadata": {},
   "outputs": [
    {
     "name": "stdout",
     "output_type": "stream",
     "text": [
      "Applied providers: ['CPUExecutionProvider'], with options: {'CPUExecutionProvider': {}}\n",
      "find model: /home/jsaavedr/.insightface/models/buffalo_l/1k3d68.onnx landmark_3d_68 ['None', 3, 192, 192] 0.0 1.0\n",
      "Applied providers: ['CPUExecutionProvider'], with options: {'CPUExecutionProvider': {}}\n",
      "find model: /home/jsaavedr/.insightface/models/buffalo_l/2d106det.onnx landmark_2d_106 ['None', 3, 192, 192] 0.0 1.0\n",
      "Applied providers: ['CPUExecutionProvider'], with options: {'CPUExecutionProvider': {}}\n",
      "find model: /home/jsaavedr/.insightface/models/buffalo_l/det_10g.onnx detection [1, 3, '?', '?'] 127.5 128.0\n",
      "Applied providers: ['CPUExecutionProvider'], with options: {'CPUExecutionProvider': {}}\n",
      "find model: /home/jsaavedr/.insightface/models/buffalo_l/genderage.onnx genderage ['None', 3, 96, 96] 0.0 1.0\n",
      "Applied providers: ['CPUExecutionProvider'], with options: {'CPUExecutionProvider': {}}\n",
      "find model: /home/jsaavedr/.insightface/models/buffalo_l/w600k_r50.onnx recognition ['None', 3, 112, 112] 127.5 127.5\n",
      "set det-size: (640, 640)\n"
     ]
    }
   ],
   "source": [
    "datapath = '/home/data/personas'\n",
    "ffaces = os.path.join(datapath, 'faces.txt')\n",
    "\n",
    "# Initialize face analysis model\n",
    "app = FaceAnalysis(name='buffalo_l', providers=['CPUExecutionProvider'])  # Use 'CUDAExecutionProvider' for GPU\n",
    "app.prepare(ctx_id=0)  # ctx_id=-1 for CPU, 0 for GPU\n",
    "\n",
    "def get_face_embedding(image_path):\n",
    "    \"\"\"Extract face embedding from an image\"\"\"\n",
    "    img = PIL.Image.open(image_path)\n",
    "    if img is None:\n",
    "        raise ValueError(f\"Could not read image: {image_path}\")    \n",
    "    faces = app.get(np.array(img))    \n",
    "    if len(faces) < 1:\n",
    "        raise ValueError(\"No faces detected in the image\")\n",
    "    if len(faces) > 1:\n",
    "        print(\"Warning: Multiple faces detected. Using first detected face\")\n",
    "    \n",
    "    return faces[0].embedding"
   ]
  },
  {
   "cell_type": "code",
   "execution_count": 5,
   "id": "76abb174",
   "metadata": {},
   "outputs": [
    {
     "name": "stdout",
     "output_type": "stream",
     "text": [
      "/home/data/personas/paulina/paulina2.png\n",
      "/home/data/personas/paulina/paulina1.jpeg\n",
      "/home/data/personas/dicaprio/dicaprio_2.png\n",
      "/home/data/personas/dicaprio/dicaprio.jpg\n",
      "/home/data/personas/barack/barack.jpeg\n",
      "/home/data/personas/barack/barack_2.jpeg\n",
      "/home/data/personas/barack/face_2.jpeg\n",
      "/home/data/personas/pancho/pancho.jpeg\n",
      "/home/data/personas/pancho/pancho2.jpeg\n",
      "/home/data/personas/thalia/thalia1.jpg\n",
      "/home/data/personas/thalia/thalia2.jpg\n",
      "(11, 512)\n",
      "[[ 0  1  2  3 10  7  8  9  5  4  6]\n",
      " [ 1  0  2  7  3  8  9 10  6  5  4]\n",
      " [ 2  3  1  0  6  4  5  7  8  9 10]\n",
      " [ 3  2  6  4  0  1  5  7  8 10  9]\n",
      " [ 4  6  5  3  2  7  9 10  8  0  1]\n",
      " [ 5  6  4  2  3  9 10  7  8  0  1]\n",
      " [ 6  5  4  3  2  9 10  7  1  0  8]\n",
      " [ 7  8  1  0  4  2  3  9  6  5 10]\n",
      " [ 8  7  1  0  4  9 10  5  2  3  6]\n",
      " [ 9 10  4  6  5  1  8  7  0  2  3]\n",
      " [10  9  0  4  6  5  1  8  7  2  3]]\n",
      "[('paulina', np.float32(1.0000001)), ('paulina', np.float32(0.6209116)), ('dicaprio', np.float32(0.14419979)), ('dicaprio', np.float32(0.11881716)), ('thalia', np.float32(0.11417775))]\n",
      "[('paulina', np.float32(0.99999994)), ('paulina', np.float32(0.6209116)), ('dicaprio', np.float32(0.15393439)), ('pancho', np.float32(0.119544916)), ('dicaprio', np.float32(0.09273541))]\n",
      "[('dicaprio', np.float32(1.0000002)), ('dicaprio', np.float32(0.82802194)), ('paulina', np.float32(0.15393439)), ('paulina', np.float32(0.14419979)), ('barack', np.float32(0.10194066))]\n",
      "[('dicaprio', np.float32(1.0)), ('dicaprio', np.float32(0.82802194)), ('barack', np.float32(0.13073248)), ('barack', np.float32(0.12986913)), ('paulina', np.float32(0.11881716))]\n",
      "[('barack', np.float32(1.0000001)), ('barack', np.float32(0.70025635)), ('barack', np.float32(0.6984561)), ('dicaprio', np.float32(0.12986913)), ('dicaprio', np.float32(0.08730675))]\n",
      "[('barack', np.float32(1.0)), ('barack', np.float32(0.7008226)), ('barack', np.float32(0.6984561)), ('dicaprio', np.float32(0.06230258)), ('dicaprio', np.float32(0.03969179))]\n",
      "[('barack', np.float32(0.9999996)), ('barack', np.float32(0.7008226)), ('barack', np.float32(0.70025635)), ('dicaprio', np.float32(0.13073248)), ('dicaprio', np.float32(0.10194066))]\n",
      "[('pancho', np.float32(1.0)), ('pancho', np.float32(0.6165867)), ('paulina', np.float32(0.119544916)), ('paulina', np.float32(0.10602467)), ('barack', np.float32(0.072126225))]\n",
      "[('pancho', np.float32(1.0)), ('pancho', np.float32(0.6165867)), ('paulina', np.float32(0.07169363)), ('paulina', np.float32(0.06048686)), ('barack', np.float32(0.025947599))]\n",
      "[('thalia', np.float32(1.0000001)), ('thalia', np.float32(0.6660255)), ('barack', np.float32(0.06861607)), ('barack', np.float32(0.055006396)), ('barack', np.float32(0.035090018))]\n",
      "[('thalia', np.float32(1.0)), ('thalia', np.float32(0.6660255)), ('paulina', np.float32(0.11417775)), ('barack', np.float32(0.05696486)), ('barack', np.float32(0.040141404))]\n"
     ]
    }
   ],
   "source": [
    "embs = []\n",
    "names = []\n",
    "compute = True \n",
    "with open(ffaces)  as f: \n",
    "    for line in f : \n",
    "        iname, icl = line.split()\n",
    "        iname = os.path.join(datapath, iname.strip())\n",
    "        print(iname)\n",
    "        names.append(icl)\n",
    "        if compute :\n",
    "            emb = get_face_embedding(iname)\n",
    "            if len(embs) == 0 :\n",
    "                embs = emb\n",
    "            else :\n",
    "                embs = np.vstack([embs, emb])\n",
    "\n",
    "print(embs.shape)\n",
    "np.save(\"face_embs.npy\", embs)\n",
    "# embs = np.load(\"face_embs.npy\") \n",
    "#similarity search\n",
    "embs_norm = embs / np.linalg.norm(embs, ord = 2, axis = 1,  keepdims = True)\n",
    "sim = embs_norm @ np.transpose(embs_norm)\n",
    "idx_sort =  np.argsort(-sim, axis = 1)\n",
    "print(idx_sort)\n",
    "for  idx, row in enumerate(idx_sort) :    \n",
    "    result = [(names[i], sim[idx, i]) for i in row[:5] ]\n",
    "    print(result)\n"
   ]
  }
 ],
 "metadata": {
  "kernelspec": {
   "display_name": "ml",
   "language": "python",
   "name": "python3"
  },
  "language_info": {
   "codemirror_mode": {
    "name": "ipython",
    "version": 3
   },
   "file_extension": ".py",
   "mimetype": "text/x-python",
   "name": "python",
   "nbconvert_exporter": "python",
   "pygments_lexer": "ipython3",
   "version": "3.9.21"
  }
 },
 "nbformat": 4,
 "nbformat_minor": 5
}
