{
  "cells": [
    {
      "cell_type": "code",
      "execution_count": 2,
      "id": "5010ef70",
      "metadata": {
        "id": "5010ef70"
      },
      "outputs": [],
      "source": [
        "import os\n",
        "import PIL\n",
        "import PIL.Image\n",
        "import numpy as np"
      ]
    },
    {
      "cell_type": "code",
      "source": [
        "!pip install -U insightface\n",
        "!pip install onnxruntime\n",
        "from insightface.app import FaceAnalysis"
      ],
      "metadata": {
        "colab": {
          "base_uri": "https://localhost:8080/"
        },
        "id": "xRIoWjUzlVX4",
        "outputId": "66860cb3-bac7-444f-be65-152eccb47f27"
      },
      "id": "xRIoWjUzlVX4",
      "execution_count": 8,
      "outputs": [
        {
          "output_type": "stream",
          "name": "stdout",
          "text": [
            "Requirement already satisfied: insightface in /usr/local/lib/python3.11/dist-packages (0.7.3)\n",
            "Requirement already satisfied: numpy in /usr/local/lib/python3.11/dist-packages (from insightface) (2.0.2)\n",
            "Requirement already satisfied: onnx in /usr/local/lib/python3.11/dist-packages (from insightface) (1.18.0)\n",
            "Requirement already satisfied: tqdm in /usr/local/lib/python3.11/dist-packages (from insightface) (4.67.1)\n",
            "Requirement already satisfied: requests in /usr/local/lib/python3.11/dist-packages (from insightface) (2.32.3)\n",
            "Requirement already satisfied: matplotlib in /usr/local/lib/python3.11/dist-packages (from insightface) (3.10.0)\n",
            "Requirement already satisfied: Pillow in /usr/local/lib/python3.11/dist-packages (from insightface) (11.2.1)\n",
            "Requirement already satisfied: scipy in /usr/local/lib/python3.11/dist-packages (from insightface) (1.15.3)\n",
            "Requirement already satisfied: scikit-learn in /usr/local/lib/python3.11/dist-packages (from insightface) (1.6.1)\n",
            "Requirement already satisfied: scikit-image in /usr/local/lib/python3.11/dist-packages (from insightface) (0.25.2)\n",
            "Requirement already satisfied: easydict in /usr/local/lib/python3.11/dist-packages (from insightface) (1.13)\n",
            "Requirement already satisfied: cython in /usr/local/lib/python3.11/dist-packages (from insightface) (3.0.12)\n",
            "Requirement already satisfied: albumentations in /usr/local/lib/python3.11/dist-packages (from insightface) (2.0.7)\n",
            "Requirement already satisfied: prettytable in /usr/local/lib/python3.11/dist-packages (from insightface) (3.16.0)\n",
            "Requirement already satisfied: PyYAML in /usr/local/lib/python3.11/dist-packages (from albumentations->insightface) (6.0.2)\n",
            "Requirement already satisfied: pydantic>=2.9.2 in /usr/local/lib/python3.11/dist-packages (from albumentations->insightface) (2.11.4)\n",
            "Requirement already satisfied: albucore==0.0.24 in /usr/local/lib/python3.11/dist-packages (from albumentations->insightface) (0.0.24)\n",
            "Requirement already satisfied: opencv-python-headless>=4.9.0.80 in /usr/local/lib/python3.11/dist-packages (from albumentations->insightface) (4.11.0.86)\n",
            "Requirement already satisfied: stringzilla>=3.10.4 in /usr/local/lib/python3.11/dist-packages (from albucore==0.0.24->albumentations->insightface) (3.12.5)\n",
            "Requirement already satisfied: simsimd>=5.9.2 in /usr/local/lib/python3.11/dist-packages (from albucore==0.0.24->albumentations->insightface) (6.2.1)\n",
            "Requirement already satisfied: contourpy>=1.0.1 in /usr/local/lib/python3.11/dist-packages (from matplotlib->insightface) (1.3.2)\n",
            "Requirement already satisfied: cycler>=0.10 in /usr/local/lib/python3.11/dist-packages (from matplotlib->insightface) (0.12.1)\n",
            "Requirement already satisfied: fonttools>=4.22.0 in /usr/local/lib/python3.11/dist-packages (from matplotlib->insightface) (4.58.0)\n",
            "Requirement already satisfied: kiwisolver>=1.3.1 in /usr/local/lib/python3.11/dist-packages (from matplotlib->insightface) (1.4.8)\n",
            "Requirement already satisfied: packaging>=20.0 in /usr/local/lib/python3.11/dist-packages (from matplotlib->insightface) (24.2)\n",
            "Requirement already satisfied: pyparsing>=2.3.1 in /usr/local/lib/python3.11/dist-packages (from matplotlib->insightface) (3.2.3)\n",
            "Requirement already satisfied: python-dateutil>=2.7 in /usr/local/lib/python3.11/dist-packages (from matplotlib->insightface) (2.9.0.post0)\n",
            "Requirement already satisfied: protobuf>=4.25.1 in /usr/local/lib/python3.11/dist-packages (from onnx->insightface) (5.29.4)\n",
            "Requirement already satisfied: typing_extensions>=4.7.1 in /usr/local/lib/python3.11/dist-packages (from onnx->insightface) (4.13.2)\n",
            "Requirement already satisfied: wcwidth in /usr/local/lib/python3.11/dist-packages (from prettytable->insightface) (0.2.13)\n",
            "Requirement already satisfied: charset-normalizer<4,>=2 in /usr/local/lib/python3.11/dist-packages (from requests->insightface) (3.4.2)\n",
            "Requirement already satisfied: idna<4,>=2.5 in /usr/local/lib/python3.11/dist-packages (from requests->insightface) (3.10)\n",
            "Requirement already satisfied: urllib3<3,>=1.21.1 in /usr/local/lib/python3.11/dist-packages (from requests->insightface) (2.4.0)\n",
            "Requirement already satisfied: certifi>=2017.4.17 in /usr/local/lib/python3.11/dist-packages (from requests->insightface) (2025.4.26)\n",
            "Requirement already satisfied: networkx>=3.0 in /usr/local/lib/python3.11/dist-packages (from scikit-image->insightface) (3.4.2)\n",
            "Requirement already satisfied: imageio!=2.35.0,>=2.33 in /usr/local/lib/python3.11/dist-packages (from scikit-image->insightface) (2.37.0)\n",
            "Requirement already satisfied: tifffile>=2022.8.12 in /usr/local/lib/python3.11/dist-packages (from scikit-image->insightface) (2025.5.21)\n",
            "Requirement already satisfied: lazy-loader>=0.4 in /usr/local/lib/python3.11/dist-packages (from scikit-image->insightface) (0.4)\n",
            "Requirement already satisfied: joblib>=1.2.0 in /usr/local/lib/python3.11/dist-packages (from scikit-learn->insightface) (1.5.0)\n",
            "Requirement already satisfied: threadpoolctl>=3.1.0 in /usr/local/lib/python3.11/dist-packages (from scikit-learn->insightface) (3.6.0)\n",
            "Requirement already satisfied: annotated-types>=0.6.0 in /usr/local/lib/python3.11/dist-packages (from pydantic>=2.9.2->albumentations->insightface) (0.7.0)\n",
            "Requirement already satisfied: pydantic-core==2.33.2 in /usr/local/lib/python3.11/dist-packages (from pydantic>=2.9.2->albumentations->insightface) (2.33.2)\n",
            "Requirement already satisfied: typing-inspection>=0.4.0 in /usr/local/lib/python3.11/dist-packages (from pydantic>=2.9.2->albumentations->insightface) (0.4.1)\n",
            "Requirement already satisfied: six>=1.5 in /usr/local/lib/python3.11/dist-packages (from python-dateutil>=2.7->matplotlib->insightface) (1.17.0)\n",
            "Requirement already satisfied: onnxruntime in /usr/local/lib/python3.11/dist-packages (1.22.0)\n",
            "Requirement already satisfied: coloredlogs in /usr/local/lib/python3.11/dist-packages (from onnxruntime) (15.0.1)\n",
            "Requirement already satisfied: flatbuffers in /usr/local/lib/python3.11/dist-packages (from onnxruntime) (25.2.10)\n",
            "Requirement already satisfied: numpy>=1.21.6 in /usr/local/lib/python3.11/dist-packages (from onnxruntime) (2.0.2)\n",
            "Requirement already satisfied: packaging in /usr/local/lib/python3.11/dist-packages (from onnxruntime) (24.2)\n",
            "Requirement already satisfied: protobuf in /usr/local/lib/python3.11/dist-packages (from onnxruntime) (5.29.4)\n",
            "Requirement already satisfied: sympy in /usr/local/lib/python3.11/dist-packages (from onnxruntime) (1.13.1)\n",
            "Requirement already satisfied: humanfriendly>=9.1 in /usr/local/lib/python3.11/dist-packages (from coloredlogs->onnxruntime) (10.0)\n",
            "Requirement already satisfied: mpmath<1.4,>=1.1.0 in /usr/local/lib/python3.11/dist-packages (from sympy->onnxruntime) (1.3.0)\n"
          ]
        }
      ]
    },
    {
      "cell_type": "code",
      "execution_count": 10,
      "id": "864afe6f",
      "metadata": {
        "colab": {
          "base_uri": "https://localhost:8080/"
        },
        "id": "864afe6f",
        "outputId": "1de9a8b2-5971-4237-9137-e98e00a13356"
      },
      "outputs": [
        {
          "output_type": "stream",
          "name": "stdout",
          "text": [
            "--2025-05-31 13:58:11--  https://www.dropbox.com/scl/fi/b9y03enpi01zfb36ckyir/personas.zip?rlkey=19wypqmaps5b5n28bz3gi7xg7&st=r52y68rh&dl=0\n",
            "Resolving www.dropbox.com (www.dropbox.com)... 162.125.3.18, 2620:100:6018:18::a27d:312\n",
            "Connecting to www.dropbox.com (www.dropbox.com)|162.125.3.18|:443... connected.\n",
            "HTTP request sent, awaiting response... 302 Found\n",
            "Location: https://uc2774b8d7e39fa1e9d701b4a04c.dl.dropboxusercontent.com/cd/0/inline/Cqsr0121wLi0gkTCb-J5scZsQmnPLHHRco1sXq2wHcKK2UB6xazfiHVgZ0RHvWVwiIrO016RD8ohXCU8Px9j4WdGVdCUSzoaxov9kj_oSzH8lcrgNPYQrEzWOqRZ1RyyOW-SmJKorenEF8Otgq6GKn20/file# [following]\n",
            "--2025-05-31 13:58:11--  https://uc2774b8d7e39fa1e9d701b4a04c.dl.dropboxusercontent.com/cd/0/inline/Cqsr0121wLi0gkTCb-J5scZsQmnPLHHRco1sXq2wHcKK2UB6xazfiHVgZ0RHvWVwiIrO016RD8ohXCU8Px9j4WdGVdCUSzoaxov9kj_oSzH8lcrgNPYQrEzWOqRZ1RyyOW-SmJKorenEF8Otgq6GKn20/file\n",
            "Resolving uc2774b8d7e39fa1e9d701b4a04c.dl.dropboxusercontent.com (uc2774b8d7e39fa1e9d701b4a04c.dl.dropboxusercontent.com)... 162.125.3.15, 2620:100:6018:15::a27d:30f\n",
            "Connecting to uc2774b8d7e39fa1e9d701b4a04c.dl.dropboxusercontent.com (uc2774b8d7e39fa1e9d701b4a04c.dl.dropboxusercontent.com)|162.125.3.15|:443... connected.\n",
            "HTTP request sent, awaiting response... 302 Found\n",
            "Location: /cd/0/inline2/CqtFWvBz5muic73L4B_IFfCegN3voVhP2qRb1Urol0bz4-J55Q-D-JNAtnbsAedVUJ1n5Fppe4L7zNPL0Nu-ekaDw2uYbJMkdNJWmwlZhxYhOF93ZD44U9w_09ek0n0qPUgvD5wPw32zCqS8D9wLcwD1qqwipVymcpv81YyOEb_VV4MBZydVDgvAEQ_ij3uDNuMQ7qZux9uk-HWKrEP8N9CajK1yogH6dcN3pWT5ZTntoWpfYc6Ida5Wn2XezdFQ7dnn7997y58vxOO-p7WOa4fDEEsPyBPAYIg47gzrvFIW4hqjlgdnu72ohn2kavSBZsChx3gZ82V6VcJWqAA8UEdPhXMV8CPVRQhjJxd6rMATsAeJ161w5G1X0syKyiKJrk0/file [following]\n",
            "--2025-05-31 13:58:12--  https://uc2774b8d7e39fa1e9d701b4a04c.dl.dropboxusercontent.com/cd/0/inline2/CqtFWvBz5muic73L4B_IFfCegN3voVhP2qRb1Urol0bz4-J55Q-D-JNAtnbsAedVUJ1n5Fppe4L7zNPL0Nu-ekaDw2uYbJMkdNJWmwlZhxYhOF93ZD44U9w_09ek0n0qPUgvD5wPw32zCqS8D9wLcwD1qqwipVymcpv81YyOEb_VV4MBZydVDgvAEQ_ij3uDNuMQ7qZux9uk-HWKrEP8N9CajK1yogH6dcN3pWT5ZTntoWpfYc6Ida5Wn2XezdFQ7dnn7997y58vxOO-p7WOa4fDEEsPyBPAYIg47gzrvFIW4hqjlgdnu72ohn2kavSBZsChx3gZ82V6VcJWqAA8UEdPhXMV8CPVRQhjJxd6rMATsAeJ161w5G1X0syKyiKJrk0/file\n",
            "Reusing existing connection to uc2774b8d7e39fa1e9d701b4a04c.dl.dropboxusercontent.com:443.\n",
            "HTTP request sent, awaiting response... 200 OK\n",
            "Length: 811862 (793K) [application/zip]\n",
            "Saving to: ‘personas.zip’\n",
            "\n",
            "personas.zip        100%[===================>] 792.83K  --.-KB/s    in 0.05s   \n",
            "\n",
            "2025-05-31 13:58:12 (14.3 MB/s) - ‘personas.zip’ saved [811862/811862]\n",
            "\n"
          ]
        }
      ],
      "source": [
        "#download from\n",
        "!wget \"https://www.dropbox.com/scl/fi/b9y03enpi01zfb36ckyir/personas.zip?rlkey=19wypqmaps5b5n28bz3gi7xg7&st=r52y68rh&dl=0\" -O personas.zip"
      ]
    },
    {
      "cell_type": "code",
      "source": [
        "!unzip persona.zip"
      ],
      "metadata": {
        "colab": {
          "base_uri": "https://localhost:8080/"
        },
        "id": "7H_BhHsRmkjj",
        "outputId": "848acf81-7792-4eec-a6cd-8346f62fd533"
      },
      "id": "7H_BhHsRmkjj",
      "execution_count": 11,
      "outputs": [
        {
          "output_type": "stream",
          "name": "stdout",
          "text": [
            "Archive:  persona.zip\n",
            "replace personas/barack/face_2.jpeg? [y]es, [n]o, [A]ll, [N]one, [r]ename: A\n",
            "  inflating: personas/barack/face_2.jpeg  \n",
            "  inflating: personas/barack/barack.jpeg  \n",
            "  inflating: personas/barack/barack_2.jpeg  \n",
            "  inflating: personas/dicaprio/dicaprio_2.png  \n",
            "  inflating: personas/dicaprio/dicaprio.jpg  \n",
            "  inflating: personas/pancho/pancho.jpeg  \n",
            "  inflating: personas/pancho/pancho2.jpeg  \n",
            "  inflating: personas/thalia/thalia2.jpg  \n",
            "  inflating: personas/thalia/thalia1.jpg  \n",
            "  inflating: personas/paulina/paulina2.png  \n",
            "  inflating: personas/paulina/paulina1.jpeg  \n",
            "  inflating: personas/faces.txt      \n"
          ]
        }
      ]
    },
    {
      "cell_type": "code",
      "execution_count": 16,
      "id": "d4de11e6",
      "metadata": {
        "colab": {
          "base_uri": "https://localhost:8080/"
        },
        "id": "d4de11e6",
        "outputId": "adeed2a2-2085-417d-c050-ab6b259e6c78"
      },
      "outputs": [
        {
          "output_type": "stream",
          "name": "stdout",
          "text": [
            "/content/personas/paulina/paulina2.png --> paulina \n",
            "/content/personas/paulina/paulina1.jpeg --> paulina \n",
            "/content/personas/dicaprio/dicaprio_2.png --> dicaprio \n",
            "/content/personas/dicaprio/dicaprio.jpg --> dicaprio \n",
            "/content/personas/barack/barack.jpeg --> barack \n",
            "/content/personas/barack/barack_2.jpeg --> barack \n",
            "/content/personas/barack/face_2.jpeg --> barack \n",
            "/content/personas/pancho/pancho.jpeg --> pancho \n",
            "/content/personas/pancho/pancho2.jpeg --> pancho \n",
            "/content/personas/thalia/thalia1.jpg --> thalia \n",
            "/content/personas/thalia/thalia2.jpg --> thalia \n"
          ]
        }
      ],
      "source": [
        "datapath = '/content/personas'\n",
        "ffaces = os.path.join(datapath, 'faces.txt')\n",
        "\n",
        "with open(ffaces) as f:\n",
        "  for line in f :\n",
        "    iname, icl = line.split()\n",
        "    iname = os.path.join(datapath, iname)\n",
        "    print('{} --> {}'.format(iname, icl))"
      ]
    },
    {
      "cell_type": "code",
      "source": [
        "# Initialize face analysis model\n",
        "app = FaceAnalysis(name='buffalo_l', providers=['CPUExecutionProvider'])  # Use 'CUDAExecutionProvider' for GPU\n",
        "app.prepare(ctx_id=0)  # ctx_id=-1 for CPU, 0 for GPU\n",
        "\n",
        "def get_face_embedding(image_path):\n",
        "    \"\"\"Extract face embedding from an image\"\"\"\n",
        "    img = PIL.Image.open(image_path)\n",
        "    if img is None:\n",
        "        raise ValueError(f\"Could not read image: {image_path}\")\n",
        "    faces = app.get(np.array(img))\n",
        "    if len(faces) < 1:\n",
        "        raise ValueError(\"No faces detected in the image\")\n",
        "    if len(faces) > 1:\n",
        "        print(\"Warning: Multiple faces detected. Using first detected face\")\n",
        "\n",
        "    return faces[0].embedding"
      ],
      "metadata": {
        "id": "qAvj_YtWpeAi",
        "outputId": "92282861-c6cc-43a4-fd64-163fb6702ccb",
        "colab": {
          "base_uri": "https://localhost:8080/"
        }
      },
      "id": "qAvj_YtWpeAi",
      "execution_count": 19,
      "outputs": [
        {
          "output_type": "stream",
          "name": "stdout",
          "text": [
            "Applied providers: ['CPUExecutionProvider'], with options: {'CPUExecutionProvider': {}}\n",
            "find model: /root/.insightface/models/buffalo_l/1k3d68.onnx landmark_3d_68 ['None', 3, 192, 192] 0.0 1.0\n",
            "Applied providers: ['CPUExecutionProvider'], with options: {'CPUExecutionProvider': {}}\n",
            "find model: /root/.insightface/models/buffalo_l/2d106det.onnx landmark_2d_106 ['None', 3, 192, 192] 0.0 1.0\n",
            "Applied providers: ['CPUExecutionProvider'], with options: {'CPUExecutionProvider': {}}\n",
            "find model: /root/.insightface/models/buffalo_l/det_10g.onnx detection [1, 3, '?', '?'] 127.5 128.0\n",
            "Applied providers: ['CPUExecutionProvider'], with options: {'CPUExecutionProvider': {}}\n",
            "find model: /root/.insightface/models/buffalo_l/genderage.onnx genderage ['None', 3, 96, 96] 0.0 1.0\n",
            "Applied providers: ['CPUExecutionProvider'], with options: {'CPUExecutionProvider': {}}\n",
            "find model: /root/.insightface/models/buffalo_l/w600k_r50.onnx recognition ['None', 3, 112, 112] 127.5 127.5\n",
            "set det-size: (640, 640)\n"
          ]
        }
      ]
    },
    {
      "cell_type": "code",
      "execution_count": 21,
      "id": "76abb174",
      "metadata": {
        "colab": {
          "base_uri": "https://localhost:8080/"
        },
        "id": "76abb174",
        "outputId": "585b4d1c-5fd5-495b-9518-46ee38b9f6a3"
      },
      "outputs": [
        {
          "output_type": "stream",
          "name": "stdout",
          "text": [
            "/content/personas/paulina/paulina2.png\n",
            "/content/personas/paulina/paulina1.jpeg\n",
            "/content/personas/dicaprio/dicaprio_2.png\n",
            "/content/personas/dicaprio/dicaprio.jpg\n",
            "/content/personas/barack/barack.jpeg\n",
            "/content/personas/barack/barack_2.jpeg\n",
            "/content/personas/barack/face_2.jpeg\n",
            "/content/personas/pancho/pancho.jpeg\n",
            "/content/personas/pancho/pancho2.jpeg\n",
            "/content/personas/thalia/thalia1.jpg\n",
            "/content/personas/thalia/thalia2.jpg\n",
            "(11, 512)\n",
            "[-8.60199749e-01 -3.25832903e-01 -5.88276088e-01 -3.00620079e-01\n",
            " -8.68814945e-01  1.08419919e+00 -1.78388691e+00  8.59658062e-01\n",
            "  2.10448369e-01 -1.12748790e+00  1.81425714e+00  1.48629332e+00\n",
            "  7.14112282e-01  9.10298049e-01 -1.64289880e+00 -1.86040089e-01\n",
            " -1.01427805e+00 -5.27941585e-02 -1.02015615e+00  1.68734074e+00\n",
            " -8.31181467e-01  7.06269801e-01  1.77542400e+00  8.04062665e-01\n",
            " -2.25114688e-01  1.16627622e+00  1.16601133e+00 -9.17855263e-01\n",
            "  5.21242976e-01 -4.10577714e-01  4.25215483e-01 -1.12431669e+00\n",
            " -1.41559947e+00 -6.14801407e-01  6.19383931e-01  1.58839738e+00\n",
            "  2.08503246e+00 -7.65935630e-02 -1.48317367e-02 -8.30320477e-01\n",
            " -1.42843449e+00 -1.27630651e+00  5.09456754e-01  1.19214725e+00\n",
            " -1.42661095e+00 -1.20847917e+00 -8.57758641e-01  4.50519145e-01\n",
            " -1.76722556e-02  3.51974159e-01 -3.73316914e-01  3.11537683e-01\n",
            "  3.64473760e-02  1.77025378e+00 -4.81345594e-01 -4.38780367e-01\n",
            " -2.07912460e-01  8.78964365e-01 -1.99835092e-01  1.38903046e+00\n",
            " -9.30834711e-02  8.53978515e-01 -6.96067035e-01  1.19575822e+00\n",
            " -5.66107482e-02 -3.30792904e-01 -1.21901941e+00  7.85087198e-02\n",
            " -2.02434897e+00  5.32776490e-02  9.65321124e-01  1.24332190e+00\n",
            " -3.14053369e+00  6.89368248e-02 -3.42693031e-01  4.60393488e-01\n",
            "  3.05085987e-01  8.53071511e-01  4.87770408e-01 -4.77443010e-01\n",
            " -6.16314948e-01 -2.70150125e-01 -9.36467409e-01  1.98608577e+00\n",
            " -6.43094480e-01  1.54154313e+00  4.08767700e-01  4.94832754e-01\n",
            " -5.28241336e-01 -1.80888027e-01  2.71939605e-01 -6.70979202e-01\n",
            " -3.45990330e-01  2.73727119e-01  6.92088306e-01  8.32954228e-01\n",
            " -2.44394064e-01 -6.11246884e-01 -1.11132431e+00  1.27766991e+00\n",
            "  2.76176780e-01 -7.03340411e-01  1.37595272e+00 -1.22738063e+00\n",
            "  4.23707843e-01 -1.90134287e-01  9.14457977e-01  6.11590266e-01\n",
            "  4.18705553e-01  4.09235150e-01 -4.69657719e-01 -1.33377290e+00\n",
            "  6.52315795e-01  1.11284137e+00  1.32957578e+00 -1.03327715e+00\n",
            "  1.37235117e+00 -1.22955799e+00  1.02291077e-01  8.24287057e-01\n",
            "  1.35553256e-01 -3.82796317e-01  3.91826600e-01  7.92873085e-01\n",
            "  7.16629148e-01 -1.29789186e+00  2.08427787e+00 -1.01138845e-01\n",
            " -1.72336137e+00 -2.89874983e+00 -1.08479905e+00 -4.95317131e-02\n",
            "  1.52328566e-01 -1.85539961e-01  2.44376883e-01  9.37450409e-01\n",
            " -3.03710163e-01 -5.37847355e-02 -6.93177700e-01  4.12436128e-02\n",
            " -8.06423128e-01  4.08740789e-01  3.23012799e-01  1.38463640e+00\n",
            " -4.78898555e-01 -6.20450318e-01 -1.51373819e-01 -9.92403507e-01\n",
            " -3.02020520e-01 -2.54694486e+00 -6.43173218e-01 -2.18159050e-01\n",
            "  4.25406694e-01 -1.06862926e+00  2.01651907e+00  7.50858068e-01\n",
            " -1.11355984e+00 -2.97772884e-01  3.94739509e-02  1.52181220e+00\n",
            "  1.18154454e+00  1.94668460e+00  9.50401783e-01  7.98435688e-01\n",
            " -4.34747159e-01  7.17106879e-01  1.23635066e+00 -1.07171226e+00\n",
            "  5.72408915e-01  4.81236935e-01 -9.50556993e-01 -2.86548436e-01\n",
            "  3.53840113e-01  1.25421274e+00  1.12354660e+00 -4.82317507e-01\n",
            " -2.76718259e-01 -4.93557513e-01  5.69026113e-01 -6.55879498e-01\n",
            "  8.47174168e-01  1.27503169e+00  4.83988881e-01  2.57543981e-01\n",
            " -2.60365993e-01  5.31265974e-01  2.39677936e-01  1.62675083e+00\n",
            " -5.91093302e-01 -3.57835591e-01  7.77364194e-01  1.36937416e+00\n",
            " -4.21753943e-01  2.20662072e-01 -6.58692941e-02  7.69042492e-01\n",
            " -2.34720707e+00 -3.60625565e-01  2.21186972e+00  7.00448513e-01\n",
            "  1.15071857e+00  1.68360519e+00  3.41010541e-01  4.47168380e-01\n",
            " -7.88542569e-01  1.16714336e-01 -8.75743926e-01  4.04324055e-01\n",
            "  1.19791949e+00 -9.15866643e-02 -1.12502277e+00 -1.18262842e-01\n",
            " -7.91281283e-01  4.54594791e-01  1.65337658e+00  9.00980473e-01\n",
            " -4.96919364e-01 -6.04180813e-01 -6.47501707e-01  4.17417735e-02\n",
            "  9.68917966e-01  1.30954993e+00  1.07814527e+00  9.27893817e-03\n",
            " -2.32499385e+00  1.86797246e-01  1.23414449e-01  6.68080270e-01\n",
            " -1.22629091e-01  3.48852366e-01  1.03061521e+00 -3.18431973e-01\n",
            "  1.58238471e+00 -1.47303677e+00 -2.25114048e-01 -1.33570981e+00\n",
            "  1.24327809e-01  1.93285990e+00  4.68782604e-01 -1.01541042e+00\n",
            " -7.67338097e-01 -6.11078501e-01  1.53313875e-01  1.14497021e-01\n",
            "  7.81159341e-01  7.91445076e-01  1.62157968e-01  7.95176387e-01\n",
            "  4.24920171e-01 -1.94822001e+00  1.18330920e+00 -2.11686596e-01\n",
            "  1.21176213e-01 -5.50739825e-01  2.45383218e-01 -1.17244370e-01\n",
            "  4.97283131e-01 -5.76492727e-01  2.61268973e-01 -1.59806442e+00\n",
            "  6.38974965e-01 -1.59950182e-01 -5.84647357e-01 -1.84285939e+00\n",
            " -9.12444949e-01 -1.31062520e+00  6.58158243e-01 -3.99939924e-01\n",
            " -1.50920129e+00 -4.25139666e-01 -7.56478459e-02 -2.22200274e-01\n",
            "  1.36313796e+00 -4.00688291e-01  3.42033058e-01 -1.30734396e+00\n",
            "  1.24446821e+00 -1.08025301e+00  2.54243404e-01 -1.13237286e+00\n",
            " -2.13953018e+00  5.81702292e-01  3.27699602e-01 -4.50015903e-01\n",
            " -1.61162901e+00  8.10473263e-01 -3.44569027e-01  1.55354440e-01\n",
            "  6.53720140e-01 -8.33628535e-01  1.67869046e-01 -6.48593828e-02\n",
            "  6.28799379e-01  5.07733822e-01  1.26627660e+00 -1.35501850e+00\n",
            "  2.98314601e-01 -5.70509315e-01 -8.65962863e-01  2.26747632e-01\n",
            " -1.19166982e+00  1.48337752e-01  7.97325015e-01 -7.84548163e-01\n",
            "  1.51909053e+00  1.80917096e+00 -1.91853368e+00  9.03094560e-03\n",
            "  6.25792027e-01 -7.37102211e-01 -4.45757151e-01 -4.73472416e-01\n",
            "  2.02775931e+00 -7.27302790e-01  1.28432000e+00 -3.48568112e-01\n",
            " -4.03561652e-01  9.52337384e-01  9.40204203e-01  3.34623516e-01\n",
            " -6.48783505e-01  2.89557815e-01  4.80507314e-03 -1.40932775e+00\n",
            "  6.53241336e-01  2.30943632e+00  9.47821796e-01 -3.41007113e-01\n",
            "  7.86881626e-01  4.71790373e-01  2.74662375e+00 -3.34140152e-01\n",
            "  2.41287565e+00  4.40156668e-01  6.85253143e-01 -3.59052420e-03\n",
            " -4.91523147e-02 -6.06921494e-01  4.87641990e-02 -2.26531339e+00\n",
            "  1.96602225e+00  1.69466865e+00  1.26231372e+00  4.06667858e-01\n",
            " -2.16908425e-01 -9.09602106e-01  1.14508414e+00  6.56246305e-01\n",
            " -8.86571407e-01 -9.92957175e-01 -5.24936199e-01  1.12174833e+00\n",
            " -3.39372277e-01  1.76288462e+00  3.82521987e-01  4.58245695e-01\n",
            "  7.23149598e-01  1.94862828e-01  8.36252213e-01 -8.71783376e-01\n",
            " -5.80109954e-01 -8.88157636e-03 -5.42358518e-01  1.16688478e+00\n",
            " -2.44199157e+00  4.78846103e-01  2.85378873e-01 -7.14681745e-01\n",
            "  5.98794341e-01  2.73932219e-01 -7.58101821e-01 -7.54859805e-01\n",
            "  3.23759109e-01  2.04080731e-01 -8.13503861e-01 -8.82347584e-01\n",
            " -4.99230862e-01 -8.04670274e-01 -1.20747066e+00 -1.73680532e+00\n",
            " -9.71315682e-01 -1.34372674e-02 -1.75436831e+00 -2.68162042e-01\n",
            "  1.97119638e-02  2.78810918e-01 -3.35672230e-01  6.46990716e-01\n",
            " -1.74985871e-01  9.26518559e-01  1.43745112e+00  1.82793784e+00\n",
            "  7.32454136e-02 -7.22193897e-01  5.60487807e-01 -4.68512952e-01\n",
            "  8.16742241e-01 -7.22535968e-01 -1.33211565e+00  1.59996867e+00\n",
            "  9.53487992e-01 -9.13273022e-02  1.99399614e+00 -2.40413815e-01\n",
            " -1.97717130e+00  1.09281398e-01  7.25427330e-01 -1.85864103e+00\n",
            " -2.71079957e-01 -5.36263347e-01 -7.67193258e-01 -9.60595965e-01\n",
            "  7.92285740e-01 -1.30629167e-01 -1.91220880e-01 -1.02935627e-01\n",
            " -2.13248879e-01  3.40941772e-02  9.02697891e-02 -3.38398606e-01\n",
            " -1.56423616e+00 -2.54140258e-01  4.04727459e-03 -4.62682277e-01\n",
            "  1.36892617e-01 -3.30267638e-01  5.90567708e-01 -5.02972126e-01\n",
            "  5.35683274e-01 -9.31811258e-02  2.65807450e-01  4.71091479e-01\n",
            "  1.36455750e+00 -1.32202566e+00 -3.39604020e-01  2.98218280e-01\n",
            "  4.69147980e-01 -2.82213807e-01  1.23415399e+00  1.10448623e+00\n",
            " -2.23229694e+00 -1.50744069e+00  9.27947462e-01 -1.08270317e-01\n",
            "  1.40258205e+00 -9.07031834e-01 -5.33369184e-01 -2.95737267e-01\n",
            "  6.93650246e-01 -3.00573659e+00  6.84809208e-01 -1.77526414e-01\n",
            "  1.61203630e-02  4.44694638e-01 -2.09964842e-01  1.07753778e+00\n",
            "  2.30424106e-03  3.67608249e-01 -2.16618323e+00  3.23537737e-01\n",
            " -4.61987287e-01  9.30361599e-02 -6.63689494e-01 -8.98336947e-01\n",
            "  1.73786402e-01 -3.59413207e-01  1.67787701e-01 -6.50162339e-01\n",
            " -1.74862933e+00 -5.62689304e-01  9.73768651e-01  6.68432355e-01\n",
            " -1.42510808e+00  1.17499864e+00 -2.27674556e+00  1.93385911e+00\n",
            " -1.60399485e+00 -1.13694680e+00 -2.35383821e+00  1.09468746e+00\n",
            "  9.46922541e-01 -1.59025341e-02 -3.89168829e-01  6.60587370e-01\n",
            "  4.74659741e-01  1.27676797e+00 -2.24553609e+00  2.79778004e-01\n",
            " -8.39947104e-01  1.26685786e+00  1.04501176e+00 -2.57206470e-01\n",
            "  1.33480752e+00 -2.75175118e+00 -1.41215909e+00 -2.32316405e-01\n",
            "  2.52346754e-01  3.38094056e-01  7.50739872e-03  1.03008556e+00\n",
            " -1.61160719e+00  1.78831801e-01 -1.28967857e+00 -1.11291671e+00\n",
            "  1.03560507e+00  1.81962764e+00 -2.29518604e+00 -5.27764022e-01\n",
            "  2.42164397e+00 -3.20771480e+00  3.29340279e-01  1.52504051e+00]\n"
          ]
        }
      ],
      "source": [
        "embs = []\n",
        "names = []\n",
        "compute = True\n",
        "with open(ffaces)  as f:\n",
        "    for line in f :\n",
        "        iname, icl = line.split()\n",
        "        iname = os.path.join(datapath, iname.strip())\n",
        "        print(iname)\n",
        "        names.append(icl)\n",
        "        if compute :\n",
        "            emb = get_face_embedding(iname)\n",
        "            if len(embs) == 0 :\n",
        "                embs = emb\n",
        "            else :\n",
        "                embs = np.vstack([embs, emb])\n",
        "\n",
        "\n"
      ]
    },
    {
      "cell_type": "code",
      "source": [
        "print(embs.shape)\n",
        "print(embs[2,:])"
      ],
      "metadata": {
        "id": "fVH2qqPpvJFQ",
        "outputId": "eacb5429-ce92-4ce6-9557-d4651bedaace",
        "colab": {
          "base_uri": "https://localhost:8080/"
        }
      },
      "id": "fVH2qqPpvJFQ",
      "execution_count": 22,
      "outputs": [
        {
          "output_type": "stream",
          "name": "stdout",
          "text": [
            "(11, 512)\n",
            "[-8.60199749e-01 -3.25832903e-01 -5.88276088e-01 -3.00620079e-01\n",
            " -8.68814945e-01  1.08419919e+00 -1.78388691e+00  8.59658062e-01\n",
            "  2.10448369e-01 -1.12748790e+00  1.81425714e+00  1.48629332e+00\n",
            "  7.14112282e-01  9.10298049e-01 -1.64289880e+00 -1.86040089e-01\n",
            " -1.01427805e+00 -5.27941585e-02 -1.02015615e+00  1.68734074e+00\n",
            " -8.31181467e-01  7.06269801e-01  1.77542400e+00  8.04062665e-01\n",
            " -2.25114688e-01  1.16627622e+00  1.16601133e+00 -9.17855263e-01\n",
            "  5.21242976e-01 -4.10577714e-01  4.25215483e-01 -1.12431669e+00\n",
            " -1.41559947e+00 -6.14801407e-01  6.19383931e-01  1.58839738e+00\n",
            "  2.08503246e+00 -7.65935630e-02 -1.48317367e-02 -8.30320477e-01\n",
            " -1.42843449e+00 -1.27630651e+00  5.09456754e-01  1.19214725e+00\n",
            " -1.42661095e+00 -1.20847917e+00 -8.57758641e-01  4.50519145e-01\n",
            " -1.76722556e-02  3.51974159e-01 -3.73316914e-01  3.11537683e-01\n",
            "  3.64473760e-02  1.77025378e+00 -4.81345594e-01 -4.38780367e-01\n",
            " -2.07912460e-01  8.78964365e-01 -1.99835092e-01  1.38903046e+00\n",
            " -9.30834711e-02  8.53978515e-01 -6.96067035e-01  1.19575822e+00\n",
            " -5.66107482e-02 -3.30792904e-01 -1.21901941e+00  7.85087198e-02\n",
            " -2.02434897e+00  5.32776490e-02  9.65321124e-01  1.24332190e+00\n",
            " -3.14053369e+00  6.89368248e-02 -3.42693031e-01  4.60393488e-01\n",
            "  3.05085987e-01  8.53071511e-01  4.87770408e-01 -4.77443010e-01\n",
            " -6.16314948e-01 -2.70150125e-01 -9.36467409e-01  1.98608577e+00\n",
            " -6.43094480e-01  1.54154313e+00  4.08767700e-01  4.94832754e-01\n",
            " -5.28241336e-01 -1.80888027e-01  2.71939605e-01 -6.70979202e-01\n",
            " -3.45990330e-01  2.73727119e-01  6.92088306e-01  8.32954228e-01\n",
            " -2.44394064e-01 -6.11246884e-01 -1.11132431e+00  1.27766991e+00\n",
            "  2.76176780e-01 -7.03340411e-01  1.37595272e+00 -1.22738063e+00\n",
            "  4.23707843e-01 -1.90134287e-01  9.14457977e-01  6.11590266e-01\n",
            "  4.18705553e-01  4.09235150e-01 -4.69657719e-01 -1.33377290e+00\n",
            "  6.52315795e-01  1.11284137e+00  1.32957578e+00 -1.03327715e+00\n",
            "  1.37235117e+00 -1.22955799e+00  1.02291077e-01  8.24287057e-01\n",
            "  1.35553256e-01 -3.82796317e-01  3.91826600e-01  7.92873085e-01\n",
            "  7.16629148e-01 -1.29789186e+00  2.08427787e+00 -1.01138845e-01\n",
            " -1.72336137e+00 -2.89874983e+00 -1.08479905e+00 -4.95317131e-02\n",
            "  1.52328566e-01 -1.85539961e-01  2.44376883e-01  9.37450409e-01\n",
            " -3.03710163e-01 -5.37847355e-02 -6.93177700e-01  4.12436128e-02\n",
            " -8.06423128e-01  4.08740789e-01  3.23012799e-01  1.38463640e+00\n",
            " -4.78898555e-01 -6.20450318e-01 -1.51373819e-01 -9.92403507e-01\n",
            " -3.02020520e-01 -2.54694486e+00 -6.43173218e-01 -2.18159050e-01\n",
            "  4.25406694e-01 -1.06862926e+00  2.01651907e+00  7.50858068e-01\n",
            " -1.11355984e+00 -2.97772884e-01  3.94739509e-02  1.52181220e+00\n",
            "  1.18154454e+00  1.94668460e+00  9.50401783e-01  7.98435688e-01\n",
            " -4.34747159e-01  7.17106879e-01  1.23635066e+00 -1.07171226e+00\n",
            "  5.72408915e-01  4.81236935e-01 -9.50556993e-01 -2.86548436e-01\n",
            "  3.53840113e-01  1.25421274e+00  1.12354660e+00 -4.82317507e-01\n",
            " -2.76718259e-01 -4.93557513e-01  5.69026113e-01 -6.55879498e-01\n",
            "  8.47174168e-01  1.27503169e+00  4.83988881e-01  2.57543981e-01\n",
            " -2.60365993e-01  5.31265974e-01  2.39677936e-01  1.62675083e+00\n",
            " -5.91093302e-01 -3.57835591e-01  7.77364194e-01  1.36937416e+00\n",
            " -4.21753943e-01  2.20662072e-01 -6.58692941e-02  7.69042492e-01\n",
            " -2.34720707e+00 -3.60625565e-01  2.21186972e+00  7.00448513e-01\n",
            "  1.15071857e+00  1.68360519e+00  3.41010541e-01  4.47168380e-01\n",
            " -7.88542569e-01  1.16714336e-01 -8.75743926e-01  4.04324055e-01\n",
            "  1.19791949e+00 -9.15866643e-02 -1.12502277e+00 -1.18262842e-01\n",
            " -7.91281283e-01  4.54594791e-01  1.65337658e+00  9.00980473e-01\n",
            " -4.96919364e-01 -6.04180813e-01 -6.47501707e-01  4.17417735e-02\n",
            "  9.68917966e-01  1.30954993e+00  1.07814527e+00  9.27893817e-03\n",
            " -2.32499385e+00  1.86797246e-01  1.23414449e-01  6.68080270e-01\n",
            " -1.22629091e-01  3.48852366e-01  1.03061521e+00 -3.18431973e-01\n",
            "  1.58238471e+00 -1.47303677e+00 -2.25114048e-01 -1.33570981e+00\n",
            "  1.24327809e-01  1.93285990e+00  4.68782604e-01 -1.01541042e+00\n",
            " -7.67338097e-01 -6.11078501e-01  1.53313875e-01  1.14497021e-01\n",
            "  7.81159341e-01  7.91445076e-01  1.62157968e-01  7.95176387e-01\n",
            "  4.24920171e-01 -1.94822001e+00  1.18330920e+00 -2.11686596e-01\n",
            "  1.21176213e-01 -5.50739825e-01  2.45383218e-01 -1.17244370e-01\n",
            "  4.97283131e-01 -5.76492727e-01  2.61268973e-01 -1.59806442e+00\n",
            "  6.38974965e-01 -1.59950182e-01 -5.84647357e-01 -1.84285939e+00\n",
            " -9.12444949e-01 -1.31062520e+00  6.58158243e-01 -3.99939924e-01\n",
            " -1.50920129e+00 -4.25139666e-01 -7.56478459e-02 -2.22200274e-01\n",
            "  1.36313796e+00 -4.00688291e-01  3.42033058e-01 -1.30734396e+00\n",
            "  1.24446821e+00 -1.08025301e+00  2.54243404e-01 -1.13237286e+00\n",
            " -2.13953018e+00  5.81702292e-01  3.27699602e-01 -4.50015903e-01\n",
            " -1.61162901e+00  8.10473263e-01 -3.44569027e-01  1.55354440e-01\n",
            "  6.53720140e-01 -8.33628535e-01  1.67869046e-01 -6.48593828e-02\n",
            "  6.28799379e-01  5.07733822e-01  1.26627660e+00 -1.35501850e+00\n",
            "  2.98314601e-01 -5.70509315e-01 -8.65962863e-01  2.26747632e-01\n",
            " -1.19166982e+00  1.48337752e-01  7.97325015e-01 -7.84548163e-01\n",
            "  1.51909053e+00  1.80917096e+00 -1.91853368e+00  9.03094560e-03\n",
            "  6.25792027e-01 -7.37102211e-01 -4.45757151e-01 -4.73472416e-01\n",
            "  2.02775931e+00 -7.27302790e-01  1.28432000e+00 -3.48568112e-01\n",
            " -4.03561652e-01  9.52337384e-01  9.40204203e-01  3.34623516e-01\n",
            " -6.48783505e-01  2.89557815e-01  4.80507314e-03 -1.40932775e+00\n",
            "  6.53241336e-01  2.30943632e+00  9.47821796e-01 -3.41007113e-01\n",
            "  7.86881626e-01  4.71790373e-01  2.74662375e+00 -3.34140152e-01\n",
            "  2.41287565e+00  4.40156668e-01  6.85253143e-01 -3.59052420e-03\n",
            " -4.91523147e-02 -6.06921494e-01  4.87641990e-02 -2.26531339e+00\n",
            "  1.96602225e+00  1.69466865e+00  1.26231372e+00  4.06667858e-01\n",
            " -2.16908425e-01 -9.09602106e-01  1.14508414e+00  6.56246305e-01\n",
            " -8.86571407e-01 -9.92957175e-01 -5.24936199e-01  1.12174833e+00\n",
            " -3.39372277e-01  1.76288462e+00  3.82521987e-01  4.58245695e-01\n",
            "  7.23149598e-01  1.94862828e-01  8.36252213e-01 -8.71783376e-01\n",
            " -5.80109954e-01 -8.88157636e-03 -5.42358518e-01  1.16688478e+00\n",
            " -2.44199157e+00  4.78846103e-01  2.85378873e-01 -7.14681745e-01\n",
            "  5.98794341e-01  2.73932219e-01 -7.58101821e-01 -7.54859805e-01\n",
            "  3.23759109e-01  2.04080731e-01 -8.13503861e-01 -8.82347584e-01\n",
            " -4.99230862e-01 -8.04670274e-01 -1.20747066e+00 -1.73680532e+00\n",
            " -9.71315682e-01 -1.34372674e-02 -1.75436831e+00 -2.68162042e-01\n",
            "  1.97119638e-02  2.78810918e-01 -3.35672230e-01  6.46990716e-01\n",
            " -1.74985871e-01  9.26518559e-01  1.43745112e+00  1.82793784e+00\n",
            "  7.32454136e-02 -7.22193897e-01  5.60487807e-01 -4.68512952e-01\n",
            "  8.16742241e-01 -7.22535968e-01 -1.33211565e+00  1.59996867e+00\n",
            "  9.53487992e-01 -9.13273022e-02  1.99399614e+00 -2.40413815e-01\n",
            " -1.97717130e+00  1.09281398e-01  7.25427330e-01 -1.85864103e+00\n",
            " -2.71079957e-01 -5.36263347e-01 -7.67193258e-01 -9.60595965e-01\n",
            "  7.92285740e-01 -1.30629167e-01 -1.91220880e-01 -1.02935627e-01\n",
            " -2.13248879e-01  3.40941772e-02  9.02697891e-02 -3.38398606e-01\n",
            " -1.56423616e+00 -2.54140258e-01  4.04727459e-03 -4.62682277e-01\n",
            "  1.36892617e-01 -3.30267638e-01  5.90567708e-01 -5.02972126e-01\n",
            "  5.35683274e-01 -9.31811258e-02  2.65807450e-01  4.71091479e-01\n",
            "  1.36455750e+00 -1.32202566e+00 -3.39604020e-01  2.98218280e-01\n",
            "  4.69147980e-01 -2.82213807e-01  1.23415399e+00  1.10448623e+00\n",
            " -2.23229694e+00 -1.50744069e+00  9.27947462e-01 -1.08270317e-01\n",
            "  1.40258205e+00 -9.07031834e-01 -5.33369184e-01 -2.95737267e-01\n",
            "  6.93650246e-01 -3.00573659e+00  6.84809208e-01 -1.77526414e-01\n",
            "  1.61203630e-02  4.44694638e-01 -2.09964842e-01  1.07753778e+00\n",
            "  2.30424106e-03  3.67608249e-01 -2.16618323e+00  3.23537737e-01\n",
            " -4.61987287e-01  9.30361599e-02 -6.63689494e-01 -8.98336947e-01\n",
            "  1.73786402e-01 -3.59413207e-01  1.67787701e-01 -6.50162339e-01\n",
            " -1.74862933e+00 -5.62689304e-01  9.73768651e-01  6.68432355e-01\n",
            " -1.42510808e+00  1.17499864e+00 -2.27674556e+00  1.93385911e+00\n",
            " -1.60399485e+00 -1.13694680e+00 -2.35383821e+00  1.09468746e+00\n",
            "  9.46922541e-01 -1.59025341e-02 -3.89168829e-01  6.60587370e-01\n",
            "  4.74659741e-01  1.27676797e+00 -2.24553609e+00  2.79778004e-01\n",
            " -8.39947104e-01  1.26685786e+00  1.04501176e+00 -2.57206470e-01\n",
            "  1.33480752e+00 -2.75175118e+00 -1.41215909e+00 -2.32316405e-01\n",
            "  2.52346754e-01  3.38094056e-01  7.50739872e-03  1.03008556e+00\n",
            " -1.61160719e+00  1.78831801e-01 -1.28967857e+00 -1.11291671e+00\n",
            "  1.03560507e+00  1.81962764e+00 -2.29518604e+00 -5.27764022e-01\n",
            "  2.42164397e+00 -3.20771480e+00  3.29340279e-01  1.52504051e+00]\n"
          ]
        }
      ]
    },
    {
      "cell_type": "code",
      "source": [
        "#np.save(\"face_embs.npy\", embs)\n",
        "# embs = np.load(\"face_embs.npy\")\n",
        "#similarity search\n",
        "embs_norm = embs / np.linalg.norm(embs, ord = 2, axis = 1,  keepdims = True)\n",
        "sim = embs_norm @ np.transpose(embs_norm)\n",
        "print(sim)\n"
      ],
      "metadata": {
        "id": "3ycGg_QAt1eQ",
        "outputId": "d1164641-0a63-4cec-e123-cda402f3ac4b",
        "colab": {
          "base_uri": "https://localhost:8080/"
        }
      },
      "id": "3ycGg_QAt1eQ",
      "execution_count": 23,
      "outputs": [
        {
          "output_type": "stream",
          "name": "stdout",
          "text": [
            "[[ 1.          0.6209115   0.14419974  0.11881724 -0.04392871 -0.04291671\n",
            "  -0.04624517  0.10602462  0.06048691 -0.00929999  0.11417773]\n",
            " [ 0.6209115   1.          0.15393433  0.09273545 -0.08422911 -0.04639705\n",
            "  -0.01933917  0.11954491  0.07169361  0.02908938  0.01362212]\n",
            " [ 0.14419974  0.15393433  1.0000001   0.8280219   0.08730675  0.06230258\n",
            "   0.10194063  0.01743324 -0.04671398 -0.05980601 -0.07494242]\n",
            " [ 0.11881724  0.09273545  0.8280219   1.          0.12986918  0.0396918\n",
            "   0.13073254  0.01685694 -0.05304242 -0.08220449 -0.07539892]\n",
            " [-0.04392871 -0.08422911  0.08730675  0.12986918  1.0000004   0.69845605\n",
            "   0.70025647  0.07212625  0.02594766  0.06861601  0.05696481]\n",
            " [-0.04291671 -0.04639705  0.06230258  0.0396918   0.69845605  1.\n",
            "   0.7008226  -0.00924187 -0.04149672  0.03509006  0.0218751 ]\n",
            " [-0.04624517 -0.01933917  0.10194063  0.13073254  0.70025647  0.7008226\n",
            "   0.9999997  -0.00899463 -0.05604562  0.05500643  0.0401415 ]\n",
            " [ 0.10602462  0.11954491  0.01743324  0.01685694  0.07212625 -0.00924187\n",
            "  -0.00899463  0.9999998   0.6165868  -0.00292835 -0.07186981]\n",
            " [ 0.06048691  0.07169361 -0.04671398 -0.05304242  0.02594766 -0.04149672\n",
            "  -0.05604562  0.6165868   1.          0.00354634 -0.01680001]\n",
            " [-0.00929999  0.02908938 -0.05980601 -0.08220449  0.06861601  0.03509006\n",
            "   0.05500643 -0.00292835  0.00354634  0.9999999   0.66602534]\n",
            " [ 0.11417773  0.01362212 -0.07494242 -0.07539892  0.05696481  0.0218751\n",
            "   0.0401415  -0.07186981 -0.01680001  0.66602534  0.99999976]]\n"
          ]
        }
      ]
    },
    {
      "cell_type": "code",
      "source": [
        "idx_sort =  np.argsort(-sim, axis = 1)\n",
        "print(idx_sort)\n"
      ],
      "metadata": {
        "id": "bVaGH0eLxc6s",
        "outputId": "3104360c-1cbc-4bb8-c0fe-2bf4c41708e1",
        "colab": {
          "base_uri": "https://localhost:8080/"
        }
      },
      "id": "bVaGH0eLxc6s",
      "execution_count": 24,
      "outputs": [
        {
          "output_type": "stream",
          "name": "stdout",
          "text": [
            "[[ 0  1  2  3 10  7  8  9  5  4  6]\n",
            " [ 1  0  2  7  3  8  9 10  6  5  4]\n",
            " [ 2  3  1  0  6  4  5  7  8  9 10]\n",
            " [ 3  2  6  4  0  1  5  7  8 10  9]\n",
            " [ 4  6  5  3  2  7  9 10  8  0  1]\n",
            " [ 5  6  4  2  3  9 10  7  8  0  1]\n",
            " [ 6  5  4  3  2  9 10  7  1  0  8]\n",
            " [ 7  8  1  0  4  2  3  9  6  5 10]\n",
            " [ 8  7  1  0  4  9 10  5  2  3  6]\n",
            " [ 9 10  4  6  5  1  8  7  0  2  3]\n",
            " [10  9  0  4  6  5  1  8  7  2  3]]\n"
          ]
        }
      ]
    },
    {
      "cell_type": "code",
      "source": [
        "for  idx, row in enumerate(idx_sort) :\n",
        "    name_query = names[idx]\n",
        "    print('Query Name = {}'.format(name_query))\n",
        "    result = [(names[i], sim[idx, i]) for i in row[1:5] ]\n",
        "    print(result)\n"
      ],
      "metadata": {
        "id": "vC3RMVA8y_CJ",
        "outputId": "cc350877-ac0d-47e9-cae8-2819aaae2d04",
        "colab": {
          "base_uri": "https://localhost:8080/"
        }
      },
      "id": "vC3RMVA8y_CJ",
      "execution_count": 27,
      "outputs": [
        {
          "output_type": "stream",
          "name": "stdout",
          "text": [
            "Query Name = paulina\n",
            "[('paulina', np.float32(0.6209115)), ('dicaprio', np.float32(0.14419974)), ('dicaprio', np.float32(0.11881724)), ('thalia', np.float32(0.11417773))]\n",
            "Query Name = paulina\n",
            "[('paulina', np.float32(0.6209115)), ('dicaprio', np.float32(0.15393433)), ('pancho', np.float32(0.11954491)), ('dicaprio', np.float32(0.09273545))]\n",
            "Query Name = dicaprio\n",
            "[('dicaprio', np.float32(0.8280219)), ('paulina', np.float32(0.15393433)), ('paulina', np.float32(0.14419974)), ('barack', np.float32(0.10194063))]\n",
            "Query Name = dicaprio\n",
            "[('dicaprio', np.float32(0.8280219)), ('barack', np.float32(0.13073254)), ('barack', np.float32(0.12986918)), ('paulina', np.float32(0.11881724))]\n",
            "Query Name = barack\n",
            "[('barack', np.float32(0.70025647)), ('barack', np.float32(0.69845605)), ('dicaprio', np.float32(0.12986918)), ('dicaprio', np.float32(0.087306745))]\n",
            "Query Name = barack\n",
            "[('barack', np.float32(0.7008226)), ('barack', np.float32(0.69845605)), ('dicaprio', np.float32(0.06230258)), ('dicaprio', np.float32(0.0396918))]\n",
            "Query Name = barack\n",
            "[('barack', np.float32(0.7008226)), ('barack', np.float32(0.70025647)), ('dicaprio', np.float32(0.13073254)), ('dicaprio', np.float32(0.10194063))]\n",
            "Query Name = pancho\n",
            "[('pancho', np.float32(0.6165868)), ('paulina', np.float32(0.11954491)), ('paulina', np.float32(0.10602462)), ('barack', np.float32(0.072126254))]\n",
            "Query Name = pancho\n",
            "[('pancho', np.float32(0.6165868)), ('paulina', np.float32(0.071693614)), ('paulina', np.float32(0.060486905)), ('barack', np.float32(0.025947656))]\n",
            "Query Name = thalia\n",
            "[('thalia', np.float32(0.66602534)), ('barack', np.float32(0.06861601)), ('barack', np.float32(0.055006433)), ('barack', np.float32(0.035090063))]\n",
            "Query Name = thalia\n",
            "[('thalia', np.float32(0.66602534)), ('paulina', np.float32(0.11417773)), ('barack', np.float32(0.056964807)), ('barack', np.float32(0.0401415))]\n"
          ]
        }
      ]
    }
  ],
  "metadata": {
    "kernelspec": {
      "display_name": "ml",
      "language": "python",
      "name": "python3"
    },
    "language_info": {
      "codemirror_mode": {
        "name": "ipython",
        "version": 3
      },
      "file_extension": ".py",
      "mimetype": "text/x-python",
      "name": "python",
      "nbconvert_exporter": "python",
      "pygments_lexer": "ipython3",
      "version": "3.9.21"
    },
    "colab": {
      "provenance": []
    }
  },
  "nbformat": 4,
  "nbformat_minor": 5
}